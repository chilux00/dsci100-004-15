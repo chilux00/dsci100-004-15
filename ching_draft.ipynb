{
 "cells": [
  {
   "cell_type": "code",
   "execution_count": 18,
   "id": "4467d882-1ad2-4ff1-8747-75d11e56d1ad",
   "metadata": {
    "tags": []
   },
   "outputs": [],
   "source": [
    "# Run cell before starting workspace - loads necessary packages\n",
    "\n",
    "library(tidyverse)\n",
    "library(repr)\n",
    "library(tidymodels)\n",
    "options(repr.matrix.max.rows = 6)"
   ]
  },
  {
   "cell_type": "code",
   "execution_count": 19,
   "id": "2990c81f-8d82-45e8-b074-b75d3c5e1574",
   "metadata": {
    "tags": []
   },
   "outputs": [],
   "source": [
    "# Read data into df\n",
    "url <- \"https://raw.githubusercontent.com/incribo-inc/stroke_prediction/main/stroke_prediction_dataset.csv\"\n",
    "stroke <- read.csv(url)"
   ]
  },
  {
   "cell_type": "code",
   "execution_count": 52,
   "id": "a23c4ef3-388e-4265-a844-985f211eceb8",
   "metadata": {
    "tags": []
   },
   "outputs": [
    {
     "data": {
      "text/html": [
       "<table class=\"dataframe\">\n",
       "<caption>A data.frame: 15000 × 10</caption>\n",
       "<thead>\n",
       "\t<tr><th scope=col>age</th><th scope=col>gender</th><th scope=col>hypertension</th><th scope=col>heart_disease</th><th scope=col>alcohol_intake</th><th scope=col>activity</th><th scope=col>family_history</th><th scope=col>diet</th><th scope=col>stress</th><th scope=col>dx</th></tr>\n",
       "\t<tr><th scope=col>&lt;int&gt;</th><th scope=col>&lt;dbl&gt;</th><th scope=col>&lt;int&gt;</th><th scope=col>&lt;int&gt;</th><th scope=col>&lt;dbl&gt;</th><th scope=col>&lt;dbl&gt;</th><th scope=col>&lt;dbl&gt;</th><th scope=col>&lt;chr&gt;</th><th scope=col>&lt;dbl&gt;</th><th scope=col>&lt;chr&gt;</th></tr>\n",
       "</thead>\n",
       "<tbody>\n",
       "\t<tr><td>56</td><td>1</td><td>0</td><td>1</td><td>3</td><td>1</td><td>1</td><td>Vegan</td><td>3.48</td><td>Stroke</td></tr>\n",
       "\t<tr><td>80</td><td>1</td><td>0</td><td>0</td><td>1</td><td>2</td><td>2</td><td>Paleo</td><td>1.73</td><td>Stroke</td></tr>\n",
       "\t<tr><td>26</td><td>1</td><td>1</td><td>1</td><td>2</td><td>3</td><td>1</td><td>Paleo</td><td>7.31</td><td>Stroke</td></tr>\n",
       "\t<tr><td>⋮</td><td>⋮</td><td>⋮</td><td>⋮</td><td>⋮</td><td>⋮</td><td>⋮</td><td>⋮</td><td>⋮</td><td>⋮</td></tr>\n",
       "\t<tr><td>35</td><td>1</td><td>0</td><td>0</td><td>2</td><td>3</td><td>2</td><td>Paleo</td><td>0.51</td><td>Stroke   </td></tr>\n",
       "\t<tr><td>73</td><td>1</td><td>0</td><td>0</td><td>1</td><td>3</td><td>1</td><td>Paleo</td><td>1.53</td><td>No Stroke</td></tr>\n",
       "\t<tr><td>64</td><td>2</td><td>0</td><td>0</td><td>2</td><td>1</td><td>2</td><td>Vegan</td><td>4.57</td><td>Stroke   </td></tr>\n",
       "</tbody>\n",
       "</table>\n"
      ],
      "text/latex": [
       "A data.frame: 15000 × 10\n",
       "\\begin{tabular}{llllllllll}\n",
       " age & gender & hypertension & heart\\_disease & alcohol\\_intake & activity & family\\_history & diet & stress & dx\\\\\n",
       " <int> & <dbl> & <int> & <int> & <dbl> & <dbl> & <dbl> & <chr> & <dbl> & <chr>\\\\\n",
       "\\hline\n",
       "\t 56 & 1 & 0 & 1 & 3 & 1 & 1 & Vegan & 3.48 & Stroke\\\\\n",
       "\t 80 & 1 & 0 & 0 & 1 & 2 & 2 & Paleo & 1.73 & Stroke\\\\\n",
       "\t 26 & 1 & 1 & 1 & 2 & 3 & 1 & Paleo & 7.31 & Stroke\\\\\n",
       "\t ⋮ & ⋮ & ⋮ & ⋮ & ⋮ & ⋮ & ⋮ & ⋮ & ⋮ & ⋮\\\\\n",
       "\t 35 & 1 & 0 & 0 & 2 & 3 & 2 & Paleo & 0.51 & Stroke   \\\\\n",
       "\t 73 & 1 & 0 & 0 & 1 & 3 & 1 & Paleo & 1.53 & No Stroke\\\\\n",
       "\t 64 & 2 & 0 & 0 & 2 & 1 & 2 & Vegan & 4.57 & Stroke   \\\\\n",
       "\\end{tabular}\n"
      ],
      "text/markdown": [
       "\n",
       "A data.frame: 15000 × 10\n",
       "\n",
       "| age &lt;int&gt; | gender &lt;dbl&gt; | hypertension &lt;int&gt; | heart_disease &lt;int&gt; | alcohol_intake &lt;dbl&gt; | activity &lt;dbl&gt; | family_history &lt;dbl&gt; | diet &lt;chr&gt; | stress &lt;dbl&gt; | dx &lt;chr&gt; |\n",
       "|---|---|---|---|---|---|---|---|---|---|\n",
       "| 56 | 1 | 0 | 1 | 3 | 1 | 1 | Vegan | 3.48 | Stroke |\n",
       "| 80 | 1 | 0 | 0 | 1 | 2 | 2 | Paleo | 1.73 | Stroke |\n",
       "| 26 | 1 | 1 | 1 | 2 | 3 | 1 | Paleo | 7.31 | Stroke |\n",
       "| ⋮ | ⋮ | ⋮ | ⋮ | ⋮ | ⋮ | ⋮ | ⋮ | ⋮ | ⋮ |\n",
       "| 35 | 1 | 0 | 0 | 2 | 3 | 2 | Paleo | 0.51 | Stroke    |\n",
       "| 73 | 1 | 0 | 0 | 1 | 3 | 1 | Paleo | 1.53 | No Stroke |\n",
       "| 64 | 2 | 0 | 0 | 2 | 1 | 2 | Vegan | 4.57 | Stroke    |\n",
       "\n"
      ],
      "text/plain": [
       "      age gender hypertension heart_disease alcohol_intake activity\n",
       "1     56  1      0            1             3              1       \n",
       "2     80  1      0            0             1              2       \n",
       "3     26  1      1            1             2              3       \n",
       "⋮     ⋮   ⋮      ⋮            ⋮             ⋮              ⋮       \n",
       "14998 35  1      0            0             2              3       \n",
       "14999 73  1      0            0             1              3       \n",
       "15000 64  2      0            0             2              1       \n",
       "      family_history diet  stress dx       \n",
       "1     1              Vegan 3.48   Stroke   \n",
       "2     2              Paleo 1.73   Stroke   \n",
       "3     1              Paleo 7.31   Stroke   \n",
       "⋮     ⋮              ⋮     ⋮      ⋮        \n",
       "14998 2              Paleo 0.51   Stroke   \n",
       "14999 1              Paleo 1.53   No Stroke\n",
       "15000 2              Vegan 4.57   Stroke   "
      ]
     },
     "metadata": {},
     "output_type": "display_data"
    }
   ],
   "source": [
    "# set seed - don't change!\n",
    "set.seed(1234)\n",
    "\n",
    "# wrangling - selects cols for prediction\n",
    "stroke_selected <- stroke |>\n",
    "    select(Age, Gender, Hypertension, Heart.Disease, Alcohol.Intake, \n",
    "           Physical.Activity, Family.History.of.Stroke,\n",
    "           Dietary.Habits, Stress.Levels, Diagnosis)\n",
    "\n",
    "# rename columns\n",
    "stroke_renamed <- stroke_selected |>\n",
    "    rename(age = Age,\n",
    "           gender = Gender,\n",
    "           hypertension = Hypertension,\n",
    "           heart_disease = Heart.Disease,\n",
    "           alcohol_intake = Alcohol.Intake,\n",
    "           activity = Physical.Activity,\n",
    "           family_history = Family.History.of.Stroke,\n",
    "           diet = Dietary.Habits,\n",
    "           stress = Stress.Levels,\n",
    "           dx = Diagnosis)\n",
    "\n",
    "# wrangle categorical columns\n",
    "stroke_renamed$gender <- as.numeric(factor(stroke_renamed$gender,\n",
    "                                           levels = c(\"Male\", \"Female\"),\n",
    "                                           labels = c(1, 0)))\n",
    "stroke_renamed$alcohol_intake <- as.numeric(factor(stroke_renamed$alcohol_intake,\n",
    "                                           levels = c(\"Never\", \"Rarely\", \"Social Drinker\", \"Frequent Drinker\"),\n",
    "                                           labels = c(0, 1, 2, 3)))\n",
    "\n",
    "stroke_renamed$family_history <- as.numeric(factor(stroke_renamed$family_history,\n",
    "                                           levels = c(\"Yes\", \"No\"),\n",
    "                                           labels = c(1, 0)))\n",
    "stroke_renamed$activity <- as.numeric(factor(stroke_renamed$activity,\n",
    "                                             levels = c(\"Moderate\", \"Low\", \"High\"),\n",
    "                                             labels = c(2, 1, 3)))                                \n",
    "stroke_renamed"
   ]
  },
  {
   "cell_type": "code",
   "execution_count": 53,
   "id": "63b74af8-9acd-4b17-acfc-be18d009edac",
   "metadata": {
    "tags": []
   },
   "outputs": [],
   "source": [
    "# split data\n",
    "# we are using 9 predictors, so 2/3 = 67% data used as training, 1/3 = 33% predicting\n",
    "\n",
    "stroke_split <- initial_split(stroke_renamed, prop = 0.67, strata = dx)\n",
    "stroke_train <- training(stroke_split)\n",
    "stroke_test <- testing(stroke_split)\n",
    "\n",
    "#stroke_train\n",
    "#stroke_test"
   ]
  },
  {
   "cell_type": "code",
   "execution_count": 54,
   "id": "caecffe6-5c30-424f-9552-af282c759e87",
   "metadata": {},
   "outputs": [
    {
     "name": "stderr",
     "output_type": "stream",
     "text": [
      "Warning message:\n",
      "“\u001b[1m\u001b[22mThere were 2 warnings in `summarize()`.\n",
      "The first warning was:\n",
      "\u001b[1m\u001b[22m\u001b[36mℹ\u001b[39m In argument: `mean_diet = mean(diet, na.rm = TRUE)`.\n",
      "\u001b[36mℹ\u001b[39m In group 1: `dx = \"No Stroke\"`.\n",
      "Caused by warning in `mean.default()`:\n",
      "\u001b[33m!\u001b[39m argument is not numeric or logical: returning NA\n",
      "\u001b[1m\u001b[22m\u001b[36mℹ\u001b[39m Run `dplyr::last_dplyr_warnings()` to see the 1 remaining warning.”\n"
     ]
    },
    {
     "data": {
      "text/html": [
       "<table class=\"dataframe\">\n",
       "<caption>A tibble: 2 × 9</caption>\n",
       "<thead>\n",
       "\t<tr><th scope=col>mean_age</th><th scope=col>mean_gender</th><th scope=col>mean_hypertension</th><th scope=col>mean_heart_disease</th><th scope=col>mean_alcohol</th><th scope=col>mean_activity</th><th scope=col>mean_famhist</th><th scope=col>mean_diet</th><th scope=col>mean_stress</th></tr>\n",
       "\t<tr><th scope=col>&lt;dbl&gt;</th><th scope=col>&lt;dbl&gt;</th><th scope=col>&lt;dbl&gt;</th><th scope=col>&lt;dbl&gt;</th><th scope=col>&lt;dbl&gt;</th><th scope=col>&lt;dbl&gt;</th><th scope=col>&lt;dbl&gt;</th><th scope=col>&lt;dbl&gt;</th><th scope=col>&lt;dbl&gt;</th></tr>\n",
       "</thead>\n",
       "<tbody>\n",
       "\t<tr><td>54.0759</td><td>1.484146</td><td>0.2471264</td><td>0.4992073</td><td>2.511296</td><td>2.007729</td><td>1.487515</td><td>NA</td><td>5.076141</td></tr>\n",
       "\t<tr><td>54.3306</td><td>1.491905</td><td>0.2448531</td><td>0.4983010</td><td>2.495503</td><td>2.000000</td><td>1.502499</td><td>NA</td><td>4.970406</td></tr>\n",
       "</tbody>\n",
       "</table>\n"
      ],
      "text/latex": [
       "A tibble: 2 × 9\n",
       "\\begin{tabular}{lllllllll}\n",
       " mean\\_age & mean\\_gender & mean\\_hypertension & mean\\_heart\\_disease & mean\\_alcohol & mean\\_activity & mean\\_famhist & mean\\_diet & mean\\_stress\\\\\n",
       " <dbl> & <dbl> & <dbl> & <dbl> & <dbl> & <dbl> & <dbl> & <dbl> & <dbl>\\\\\n",
       "\\hline\n",
       "\t 54.0759 & 1.484146 & 0.2471264 & 0.4992073 & 2.511296 & 2.007729 & 1.487515 & NA & 5.076141\\\\\n",
       "\t 54.3306 & 1.491905 & 0.2448531 & 0.4983010 & 2.495503 & 2.000000 & 1.502499 & NA & 4.970406\\\\\n",
       "\\end{tabular}\n"
      ],
      "text/markdown": [
       "\n",
       "A tibble: 2 × 9\n",
       "\n",
       "| mean_age &lt;dbl&gt; | mean_gender &lt;dbl&gt; | mean_hypertension &lt;dbl&gt; | mean_heart_disease &lt;dbl&gt; | mean_alcohol &lt;dbl&gt; | mean_activity &lt;dbl&gt; | mean_famhist &lt;dbl&gt; | mean_diet &lt;dbl&gt; | mean_stress &lt;dbl&gt; |\n",
       "|---|---|---|---|---|---|---|---|---|\n",
       "| 54.0759 | 1.484146 | 0.2471264 | 0.4992073 | 2.511296 | 2.007729 | 1.487515 | NA | 5.076141 |\n",
       "| 54.3306 | 1.491905 | 0.2448531 | 0.4983010 | 2.495503 | 2.000000 | 1.502499 | NA | 4.970406 |\n",
       "\n"
      ],
      "text/plain": [
       "  mean_age mean_gender mean_hypertension mean_heart_disease mean_alcohol\n",
       "1 54.0759  1.484146    0.2471264         0.4992073          2.511296    \n",
       "2 54.3306  1.491905    0.2448531         0.4983010          2.495503    \n",
       "  mean_activity mean_famhist mean_diet mean_stress\n",
       "1 2.007729      1.487515     NA        5.076141   \n",
       "2 2.000000      1.502499     NA        4.970406   "
      ]
     },
     "metadata": {},
     "output_type": "display_data"
    }
   ],
   "source": [
    "# summarizing observations per class, means of variables, missing data counts for diagnosed strokes\n",
    "\n",
    "stroke_summary <- stroke_train |>\n",
    "    group_by(dx) |>\n",
    "    summarize(\n",
    "        count = n(),\n",
    "        mean_age = mean(age, na.rm = TRUE),\n",
    "        mean_gender = mean(gender, na.rm = TRUE),\n",
    "        mean_hypertension = mean(hypertension, na.rm = TRUE),\n",
    "        mean_heart_disease = mean(heart_disease, na.rm = TRUE),\n",
    "        mean_alcohol = mean(alcohol_intake, na.rm = TRUE),\n",
    "        mean_activity = mean(activity, na.rm = TRUE),\n",
    "        mean_famhist = mean(family_history, na.rm = TRUE),\n",
    "        mean_diet = mean(diet, na.rm = TRUE),\n",
    "        mean_stress = mean(stress, na.rm = TRUE),\n",
    "        missing_age = sum(is.na(age)),\n",
    "        missing_gender = sum(is.na(gender)),\n",
    "        missing_hypertension = sum(is.na(hypertension)),\n",
    "        missing_heart_disease = sum(is.na(heart_disease)),\n",
    "        missing_alcohol = sum(is.na(alcohol_intake)),\n",
    "        missing_activity = sum(is.na(activity)),\n",
    "        missing_famhist = sum(is.na(family_history)),\n",
    "        missing_diet = sum(is.na(diet)),\n",
    "        missing_stress = sum(is.na(stress)),\n",
    "        )\n",
    "\n",
    "# after printing the above table, there were no missing values for any columns\n",
    "# additionally\n",
    "# for clarity, these columns were omitted\n",
    "\n",
    "stroke_summary <- stroke_summary |>\n",
    "    select(mean_age, mean_gender, mean_hypertension, \n",
    "           mean_heart_disease, mean_alcohol, mean_activity,\n",
    "           mean_famhist, mean_diet, mean_stress)\n",
    "\n",
    "stroke_summary\n",
    "        \n",
    "      "
   ]
  },
  {
   "cell_type": "code",
   "execution_count": null,
   "id": "3f2b53c6-b9cd-46cd-bb56-5c4111d2ab35",
   "metadata": {
    "tags": []
   },
   "outputs": [],
   "source": []
  },
  {
   "cell_type": "code",
   "execution_count": null,
   "id": "a3cf20b2-4891-4605-aa4c-1eeb16c18d8d",
   "metadata": {},
   "outputs": [],
   "source": []
  }
 ],
 "metadata": {
  "kernelspec": {
   "display_name": "R",
   "language": "R",
   "name": "ir"
  },
  "language_info": {
   "codemirror_mode": "r",
   "file_extension": ".r",
   "mimetype": "text/x-r-source",
   "name": "R",
   "pygments_lexer": "r",
   "version": "4.2.2"
  }
 },
 "nbformat": 4,
 "nbformat_minor": 5
}
