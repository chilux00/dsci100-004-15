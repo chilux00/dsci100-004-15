{
 "cells": [
  {
   "cell_type": "code",
   "execution_count": 18,
   "id": "4467d882-1ad2-4ff1-8747-75d11e56d1ad",
   "metadata": {
    "tags": []
   },
   "outputs": [],
   "source": [
    "# Run cell before starting workspace - loads necessary packages\n",
    "\n",
    "library(tidyverse)\n",
    "library(repr)\n",
    "library(tidymodels)\n",
    "options(repr.matrix.max.rows = 6)"
   ]
  },
  {
   "cell_type": "code",
   "execution_count": 19,
   "id": "2990c81f-8d82-45e8-b074-b75d3c5e1574",
   "metadata": {
    "tags": []
   },
   "outputs": [],
   "source": [
    "# Read data into df\n",
    "url <- \"https://raw.githubusercontent.com/incribo-inc/stroke_prediction/main/stroke_prediction_dataset.csv\"\n",
    "stroke <- read.csv(url)"
   ]
  },
  {
   "cell_type": "code",
   "execution_count": 20,
   "id": "a23c4ef3-388e-4265-a844-985f211eceb8",
   "metadata": {
    "tags": []
   },
   "outputs": [
    {
     "data": {
      "text/html": [
       "<table class=\"dataframe\">\n",
       "<caption>A data.frame: 15000 × 10</caption>\n",
       "<thead>\n",
       "\t<tr><th scope=col>age</th><th scope=col>gender</th><th scope=col>hypertension</th><th scope=col>heart_disease</th><th scope=col>alcohol_intake</th><th scope=col>activity</th><th scope=col>family_history</th><th scope=col>diet</th><th scope=col>stress</th><th scope=col>dx</th></tr>\n",
       "\t<tr><th scope=col>&lt;int&gt;</th><th scope=col>&lt;chr&gt;</th><th scope=col>&lt;int&gt;</th><th scope=col>&lt;int&gt;</th><th scope=col>&lt;chr&gt;</th><th scope=col>&lt;chr&gt;</th><th scope=col>&lt;chr&gt;</th><th scope=col>&lt;chr&gt;</th><th scope=col>&lt;dbl&gt;</th><th scope=col>&lt;chr&gt;</th></tr>\n",
       "</thead>\n",
       "<tbody>\n",
       "\t<tr><td>56</td><td>Male</td><td>0</td><td>1</td><td>Social Drinker</td><td>Moderate</td><td>Yes</td><td>Vegan</td><td>3.48</td><td>Stroke</td></tr>\n",
       "\t<tr><td>80</td><td>Male</td><td>0</td><td>0</td><td>Never         </td><td>Low     </td><td>No </td><td>Paleo</td><td>1.73</td><td>Stroke</td></tr>\n",
       "\t<tr><td>26</td><td>Male</td><td>1</td><td>1</td><td>Rarely        </td><td>High    </td><td>Yes</td><td>Paleo</td><td>7.31</td><td>Stroke</td></tr>\n",
       "\t<tr><td>⋮</td><td>⋮</td><td>⋮</td><td>⋮</td><td>⋮</td><td>⋮</td><td>⋮</td><td>⋮</td><td>⋮</td><td>⋮</td></tr>\n",
       "\t<tr><td>35</td><td>Male  </td><td>0</td><td>0</td><td>Rarely</td><td>High    </td><td>No </td><td>Paleo</td><td>0.51</td><td>Stroke   </td></tr>\n",
       "\t<tr><td>73</td><td>Male  </td><td>0</td><td>0</td><td>Never </td><td>High    </td><td>Yes</td><td>Paleo</td><td>1.53</td><td>No Stroke</td></tr>\n",
       "\t<tr><td>64</td><td>Female</td><td>0</td><td>0</td><td>Rarely</td><td>Moderate</td><td>No </td><td>Vegan</td><td>4.57</td><td>Stroke   </td></tr>\n",
       "</tbody>\n",
       "</table>\n"
      ],
      "text/latex": [
       "A data.frame: 15000 × 10\n",
       "\\begin{tabular}{llllllllll}\n",
       " age & gender & hypertension & heart\\_disease & alcohol\\_intake & activity & family\\_history & diet & stress & dx\\\\\n",
       " <int> & <chr> & <int> & <int> & <chr> & <chr> & <chr> & <chr> & <dbl> & <chr>\\\\\n",
       "\\hline\n",
       "\t 56 & Male & 0 & 1 & Social Drinker & Moderate & Yes & Vegan & 3.48 & Stroke\\\\\n",
       "\t 80 & Male & 0 & 0 & Never          & Low      & No  & Paleo & 1.73 & Stroke\\\\\n",
       "\t 26 & Male & 1 & 1 & Rarely         & High     & Yes & Paleo & 7.31 & Stroke\\\\\n",
       "\t ⋮ & ⋮ & ⋮ & ⋮ & ⋮ & ⋮ & ⋮ & ⋮ & ⋮ & ⋮\\\\\n",
       "\t 35 & Male   & 0 & 0 & Rarely & High     & No  & Paleo & 0.51 & Stroke   \\\\\n",
       "\t 73 & Male   & 0 & 0 & Never  & High     & Yes & Paleo & 1.53 & No Stroke\\\\\n",
       "\t 64 & Female & 0 & 0 & Rarely & Moderate & No  & Vegan & 4.57 & Stroke   \\\\\n",
       "\\end{tabular}\n"
      ],
      "text/markdown": [
       "\n",
       "A data.frame: 15000 × 10\n",
       "\n",
       "| age &lt;int&gt; | gender &lt;chr&gt; | hypertension &lt;int&gt; | heart_disease &lt;int&gt; | alcohol_intake &lt;chr&gt; | activity &lt;chr&gt; | family_history &lt;chr&gt; | diet &lt;chr&gt; | stress &lt;dbl&gt; | dx &lt;chr&gt; |\n",
       "|---|---|---|---|---|---|---|---|---|---|\n",
       "| 56 | Male | 0 | 1 | Social Drinker | Moderate | Yes | Vegan | 3.48 | Stroke |\n",
       "| 80 | Male | 0 | 0 | Never          | Low      | No  | Paleo | 1.73 | Stroke |\n",
       "| 26 | Male | 1 | 1 | Rarely         | High     | Yes | Paleo | 7.31 | Stroke |\n",
       "| ⋮ | ⋮ | ⋮ | ⋮ | ⋮ | ⋮ | ⋮ | ⋮ | ⋮ | ⋮ |\n",
       "| 35 | Male   | 0 | 0 | Rarely | High     | No  | Paleo | 0.51 | Stroke    |\n",
       "| 73 | Male   | 0 | 0 | Never  | High     | Yes | Paleo | 1.53 | No Stroke |\n",
       "| 64 | Female | 0 | 0 | Rarely | Moderate | No  | Vegan | 4.57 | Stroke    |\n",
       "\n"
      ],
      "text/plain": [
       "      age gender hypertension heart_disease alcohol_intake activity\n",
       "1     56  Male   0            1             Social Drinker Moderate\n",
       "2     80  Male   0            0             Never          Low     \n",
       "3     26  Male   1            1             Rarely         High    \n",
       "⋮     ⋮   ⋮      ⋮            ⋮             ⋮              ⋮       \n",
       "14998 35  Male   0            0             Rarely         High    \n",
       "14999 73  Male   0            0             Never          High    \n",
       "15000 64  Female 0            0             Rarely         Moderate\n",
       "      family_history diet  stress dx       \n",
       "1     Yes            Vegan 3.48   Stroke   \n",
       "2     No             Paleo 1.73   Stroke   \n",
       "3     Yes            Paleo 7.31   Stroke   \n",
       "⋮     ⋮              ⋮     ⋮      ⋮        \n",
       "14998 No             Paleo 0.51   Stroke   \n",
       "14999 Yes            Paleo 1.53   No Stroke\n",
       "15000 No             Vegan 4.57   Stroke   "
      ]
     },
     "metadata": {},
     "output_type": "display_data"
    },
    {
     "data": {
      "text/html": [
       "<table class=\"dataframe\">\n",
       "<caption>A data.frame: 10049 × 10</caption>\n",
       "<thead>\n",
       "\t<tr><th></th><th scope=col>age</th><th scope=col>gender</th><th scope=col>hypertension</th><th scope=col>heart_disease</th><th scope=col>alcohol_intake</th><th scope=col>activity</th><th scope=col>family_history</th><th scope=col>diet</th><th scope=col>stress</th><th scope=col>dx</th></tr>\n",
       "\t<tr><th></th><th scope=col>&lt;int&gt;</th><th scope=col>&lt;chr&gt;</th><th scope=col>&lt;int&gt;</th><th scope=col>&lt;int&gt;</th><th scope=col>&lt;chr&gt;</th><th scope=col>&lt;chr&gt;</th><th scope=col>&lt;chr&gt;</th><th scope=col>&lt;chr&gt;</th><th scope=col>&lt;dbl&gt;</th><th scope=col>&lt;chr&gt;</th></tr>\n",
       "</thead>\n",
       "<tbody>\n",
       "\t<tr><th scope=row>4</th><td>73</td><td>Male</td><td>0</td><td>0</td><td>Frequent Drinker</td><td>Moderate</td><td>No </td><td>Paleo         </td><td>5.35</td><td>No Stroke</td></tr>\n",
       "\t<tr><th scope=row>10</th><td>82</td><td>Male</td><td>0</td><td>0</td><td>Rarely          </td><td>High    </td><td>Yes</td><td>Non-Vegetarian</td><td>8.39</td><td>No Stroke</td></tr>\n",
       "\t<tr><th scope=row>11</th><td>41</td><td>Male</td><td>0</td><td>1</td><td>Frequent Drinker</td><td>Low     </td><td>Yes</td><td>Pescatarian   </td><td>1.56</td><td>No Stroke</td></tr>\n",
       "\t<tr><th scope=row>⋮</th><td>⋮</td><td>⋮</td><td>⋮</td><td>⋮</td><td>⋮</td><td>⋮</td><td>⋮</td><td>⋮</td><td>⋮</td><td>⋮</td></tr>\n",
       "\t<tr><th scope=row>14986</th><td>75</td><td>Male  </td><td>1</td><td>1</td><td>Frequent Drinker</td><td>Moderate</td><td>No</td><td>Gluten-Free   </td><td>0.23</td><td>Stroke</td></tr>\n",
       "\t<tr><th scope=row>14993</th><td>81</td><td>Female</td><td>1</td><td>1</td><td>Rarely          </td><td>Moderate</td><td>No</td><td>Non-Vegetarian</td><td>5.49</td><td>Stroke</td></tr>\n",
       "\t<tr><th scope=row>15000</th><td>64</td><td>Female</td><td>0</td><td>0</td><td>Rarely          </td><td>Moderate</td><td>No</td><td>Vegan         </td><td>4.57</td><td>Stroke</td></tr>\n",
       "</tbody>\n",
       "</table>\n"
      ],
      "text/latex": [
       "A data.frame: 10049 × 10\n",
       "\\begin{tabular}{r|llllllllll}\n",
       "  & age & gender & hypertension & heart\\_disease & alcohol\\_intake & activity & family\\_history & diet & stress & dx\\\\\n",
       "  & <int> & <chr> & <int> & <int> & <chr> & <chr> & <chr> & <chr> & <dbl> & <chr>\\\\\n",
       "\\hline\n",
       "\t4 & 73 & Male & 0 & 0 & Frequent Drinker & Moderate & No  & Paleo          & 5.35 & No Stroke\\\\\n",
       "\t10 & 82 & Male & 0 & 0 & Rarely           & High     & Yes & Non-Vegetarian & 8.39 & No Stroke\\\\\n",
       "\t11 & 41 & Male & 0 & 1 & Frequent Drinker & Low      & Yes & Pescatarian    & 1.56 & No Stroke\\\\\n",
       "\t⋮ & ⋮ & ⋮ & ⋮ & ⋮ & ⋮ & ⋮ & ⋮ & ⋮ & ⋮ & ⋮\\\\\n",
       "\t14986 & 75 & Male   & 1 & 1 & Frequent Drinker & Moderate & No & Gluten-Free    & 0.23 & Stroke\\\\\n",
       "\t14993 & 81 & Female & 1 & 1 & Rarely           & Moderate & No & Non-Vegetarian & 5.49 & Stroke\\\\\n",
       "\t15000 & 64 & Female & 0 & 0 & Rarely           & Moderate & No & Vegan          & 4.57 & Stroke\\\\\n",
       "\\end{tabular}\n"
      ],
      "text/markdown": [
       "\n",
       "A data.frame: 10049 × 10\n",
       "\n",
       "| <!--/--> | age &lt;int&gt; | gender &lt;chr&gt; | hypertension &lt;int&gt; | heart_disease &lt;int&gt; | alcohol_intake &lt;chr&gt; | activity &lt;chr&gt; | family_history &lt;chr&gt; | diet &lt;chr&gt; | stress &lt;dbl&gt; | dx &lt;chr&gt; |\n",
       "|---|---|---|---|---|---|---|---|---|---|---|\n",
       "| 4 | 73 | Male | 0 | 0 | Frequent Drinker | Moderate | No  | Paleo          | 5.35 | No Stroke |\n",
       "| 10 | 82 | Male | 0 | 0 | Rarely           | High     | Yes | Non-Vegetarian | 8.39 | No Stroke |\n",
       "| 11 | 41 | Male | 0 | 1 | Frequent Drinker | Low      | Yes | Pescatarian    | 1.56 | No Stroke |\n",
       "| ⋮ | ⋮ | ⋮ | ⋮ | ⋮ | ⋮ | ⋮ | ⋮ | ⋮ | ⋮ | ⋮ |\n",
       "| 14986 | 75 | Male   | 1 | 1 | Frequent Drinker | Moderate | No | Gluten-Free    | 0.23 | Stroke |\n",
       "| 14993 | 81 | Female | 1 | 1 | Rarely           | Moderate | No | Non-Vegetarian | 5.49 | Stroke |\n",
       "| 15000 | 64 | Female | 0 | 0 | Rarely           | Moderate | No | Vegan          | 4.57 | Stroke |\n",
       "\n"
      ],
      "text/plain": [
       "      age gender hypertension heart_disease alcohol_intake   activity\n",
       "4     73  Male   0            0             Frequent Drinker Moderate\n",
       "10    82  Male   0            0             Rarely           High    \n",
       "11    41  Male   0            1             Frequent Drinker Low     \n",
       "⋮     ⋮   ⋮      ⋮            ⋮             ⋮                ⋮       \n",
       "14986 75  Male   1            1             Frequent Drinker Moderate\n",
       "14993 81  Female 1            1             Rarely           Moderate\n",
       "15000 64  Female 0            0             Rarely           Moderate\n",
       "      family_history diet           stress dx       \n",
       "4     No             Paleo          5.35   No Stroke\n",
       "10    Yes            Non-Vegetarian 8.39   No Stroke\n",
       "11    Yes            Pescatarian    1.56   No Stroke\n",
       "⋮     ⋮              ⋮              ⋮      ⋮        \n",
       "14986 No             Gluten-Free    0.23   Stroke   \n",
       "14993 No             Non-Vegetarian 5.49   Stroke   \n",
       "15000 No             Vegan          4.57   Stroke   "
      ]
     },
     "metadata": {},
     "output_type": "display_data"
    },
    {
     "data": {
      "text/html": [
       "<table class=\"dataframe\">\n",
       "<caption>A data.frame: 4951 × 10</caption>\n",
       "<thead>\n",
       "\t<tr><th></th><th scope=col>age</th><th scope=col>gender</th><th scope=col>hypertension</th><th scope=col>heart_disease</th><th scope=col>alcohol_intake</th><th scope=col>activity</th><th scope=col>family_history</th><th scope=col>diet</th><th scope=col>stress</th><th scope=col>dx</th></tr>\n",
       "\t<tr><th></th><th scope=col>&lt;int&gt;</th><th scope=col>&lt;chr&gt;</th><th scope=col>&lt;int&gt;</th><th scope=col>&lt;int&gt;</th><th scope=col>&lt;chr&gt;</th><th scope=col>&lt;chr&gt;</th><th scope=col>&lt;chr&gt;</th><th scope=col>&lt;chr&gt;</th><th scope=col>&lt;dbl&gt;</th><th scope=col>&lt;chr&gt;</th></tr>\n",
       "</thead>\n",
       "<tbody>\n",
       "\t<tr><th scope=row>2</th><td>80</td><td>Male</td><td>0</td><td>0</td><td>Never </td><td>Low </td><td>No </td><td>Paleo      </td><td>1.73</td><td>Stroke</td></tr>\n",
       "\t<tr><th scope=row>3</th><td>26</td><td>Male</td><td>1</td><td>1</td><td>Rarely</td><td>High</td><td>Yes</td><td>Paleo      </td><td>7.31</td><td>Stroke</td></tr>\n",
       "\t<tr><th scope=row>5</th><td>51</td><td>Male</td><td>1</td><td>1</td><td>Rarely</td><td>Low </td><td>Yes</td><td>Pescatarian</td><td>6.84</td><td>Stroke</td></tr>\n",
       "\t<tr><th scope=row>⋮</th><td>⋮</td><td>⋮</td><td>⋮</td><td>⋮</td><td>⋮</td><td>⋮</td><td>⋮</td><td>⋮</td><td>⋮</td><td>⋮</td></tr>\n",
       "\t<tr><th scope=row>14991</th><td>47</td><td>Female</td><td>0</td><td>1</td><td>Social Drinker</td><td>Moderate</td><td>Yes</td><td>Vegan</td><td>3.67</td><td>Stroke</td></tr>\n",
       "\t<tr><th scope=row>14994</th><td>90</td><td>Female</td><td>1</td><td>0</td><td>Rarely        </td><td>Low     </td><td>Yes</td><td>Keto </td><td>2.11</td><td>Stroke</td></tr>\n",
       "\t<tr><th scope=row>14998</th><td>35</td><td>Male  </td><td>0</td><td>0</td><td>Rarely        </td><td>High    </td><td>No </td><td>Paleo</td><td>0.51</td><td>Stroke</td></tr>\n",
       "</tbody>\n",
       "</table>\n"
      ],
      "text/latex": [
       "A data.frame: 4951 × 10\n",
       "\\begin{tabular}{r|llllllllll}\n",
       "  & age & gender & hypertension & heart\\_disease & alcohol\\_intake & activity & family\\_history & diet & stress & dx\\\\\n",
       "  & <int> & <chr> & <int> & <int> & <chr> & <chr> & <chr> & <chr> & <dbl> & <chr>\\\\\n",
       "\\hline\n",
       "\t2 & 80 & Male & 0 & 0 & Never  & Low  & No  & Paleo       & 1.73 & Stroke\\\\\n",
       "\t3 & 26 & Male & 1 & 1 & Rarely & High & Yes & Paleo       & 7.31 & Stroke\\\\\n",
       "\t5 & 51 & Male & 1 & 1 & Rarely & Low  & Yes & Pescatarian & 6.84 & Stroke\\\\\n",
       "\t⋮ & ⋮ & ⋮ & ⋮ & ⋮ & ⋮ & ⋮ & ⋮ & ⋮ & ⋮ & ⋮\\\\\n",
       "\t14991 & 47 & Female & 0 & 1 & Social Drinker & Moderate & Yes & Vegan & 3.67 & Stroke\\\\\n",
       "\t14994 & 90 & Female & 1 & 0 & Rarely         & Low      & Yes & Keto  & 2.11 & Stroke\\\\\n",
       "\t14998 & 35 & Male   & 0 & 0 & Rarely         & High     & No  & Paleo & 0.51 & Stroke\\\\\n",
       "\\end{tabular}\n"
      ],
      "text/markdown": [
       "\n",
       "A data.frame: 4951 × 10\n",
       "\n",
       "| <!--/--> | age &lt;int&gt; | gender &lt;chr&gt; | hypertension &lt;int&gt; | heart_disease &lt;int&gt; | alcohol_intake &lt;chr&gt; | activity &lt;chr&gt; | family_history &lt;chr&gt; | diet &lt;chr&gt; | stress &lt;dbl&gt; | dx &lt;chr&gt; |\n",
       "|---|---|---|---|---|---|---|---|---|---|---|\n",
       "| 2 | 80 | Male | 0 | 0 | Never  | Low  | No  | Paleo       | 1.73 | Stroke |\n",
       "| 3 | 26 | Male | 1 | 1 | Rarely | High | Yes | Paleo       | 7.31 | Stroke |\n",
       "| 5 | 51 | Male | 1 | 1 | Rarely | Low  | Yes | Pescatarian | 6.84 | Stroke |\n",
       "| ⋮ | ⋮ | ⋮ | ⋮ | ⋮ | ⋮ | ⋮ | ⋮ | ⋮ | ⋮ | ⋮ |\n",
       "| 14991 | 47 | Female | 0 | 1 | Social Drinker | Moderate | Yes | Vegan | 3.67 | Stroke |\n",
       "| 14994 | 90 | Female | 1 | 0 | Rarely         | Low      | Yes | Keto  | 2.11 | Stroke |\n",
       "| 14998 | 35 | Male   | 0 | 0 | Rarely         | High     | No  | Paleo | 0.51 | Stroke |\n",
       "\n"
      ],
      "text/plain": [
       "      age gender hypertension heart_disease alcohol_intake activity\n",
       "2     80  Male   0            0             Never          Low     \n",
       "3     26  Male   1            1             Rarely         High    \n",
       "5     51  Male   1            1             Rarely         Low     \n",
       "⋮     ⋮   ⋮      ⋮            ⋮             ⋮              ⋮       \n",
       "14991 47  Female 0            1             Social Drinker Moderate\n",
       "14994 90  Female 1            0             Rarely         Low     \n",
       "14998 35  Male   0            0             Rarely         High    \n",
       "      family_history diet        stress dx    \n",
       "2     No             Paleo       1.73   Stroke\n",
       "3     Yes            Paleo       7.31   Stroke\n",
       "5     Yes            Pescatarian 6.84   Stroke\n",
       "⋮     ⋮              ⋮           ⋮      ⋮     \n",
       "14991 Yes            Vegan       3.67   Stroke\n",
       "14994 Yes            Keto        2.11   Stroke\n",
       "14998 No             Paleo       0.51   Stroke"
      ]
     },
     "metadata": {},
     "output_type": "display_data"
    }
   ],
   "source": [
    "# set seed - don't change!\n",
    "set.seed(1234)\n",
    "\n",
    "# wrangling\n",
    "stroke_selected <- stroke |>\n",
    "    select(Age, Gender, Hypertension, Heart.Disease, Alcohol.Intake, \n",
    "           Physical.Activity, Family.History.of.Stroke,\n",
    "           Dietary.Habits, Stress.Levels, Diagnosis)\n",
    "\n",
    "# rename columns\n",
    "stroke_renamed <- stroke_selected |>\n",
    "    rename(age = Age,\n",
    "           gender = Gender,\n",
    "           hypertension = Hypertension,\n",
    "           heart_disease = Heart.Disease,\n",
    "           alcohol_intake = Alcohol.Intake,\n",
    "           activity = Physical.Activity,\n",
    "           family_history = Family.History.of.Stroke,\n",
    "           diet = Dietary.Habits,\n",
    "           stress = Stress.Levels,\n",
    "           dx = Diagnosis)\n",
    "stroke_renamed           \n",
    "\n",
    "# split data\n",
    "# we are using 9 predictors, so 67% data used as training, 33% predicting\n",
    "\n",
    "stroke_split <- initial_split(stroke_renamed, prop = 0.67, strata = dx)\n",
    "stroke_train <- training(stroke_split)\n",
    "stroke_test <- testing(stroke_split)\n",
    "\n",
    "stroke_train\n",
    "stroke_test\n",
    "\n"
   ]
  },
  {
   "cell_type": "code",
   "execution_count": null,
   "id": "caecffe6-5c30-424f-9552-af282c759e87",
   "metadata": {},
   "outputs": [],
   "source": []
  }
 ],
 "metadata": {
  "kernelspec": {
   "display_name": "R",
   "language": "R",
   "name": "ir"
  },
  "language_info": {
   "codemirror_mode": "r",
   "file_extension": ".r",
   "mimetype": "text/x-r-source",
   "name": "R",
   "pygments_lexer": "r",
   "version": "4.2.2"
  }
 },
 "nbformat": 4,
 "nbformat_minor": 5
}
