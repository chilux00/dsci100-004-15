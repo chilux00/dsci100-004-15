{
 "cells": [
  {
   "cell_type": "code",
   "execution_count": 18,
   "id": "4467d882-1ad2-4ff1-8747-75d11e56d1ad",
   "metadata": {
    "tags": []
   },
   "outputs": [],
   "source": [
    "# Run cell before starting workspace - loads necessary packages\n",
    "\n",
    "library(tidyverse)\n",
    "library(repr)\n",
    "library(tidymodels)\n",
    "options(repr.matrix.max.rows = 6)"
   ]
  },
  {
   "cell_type": "code",
   "execution_count": 19,
   "id": "2990c81f-8d82-45e8-b074-b75d3c5e1574",
   "metadata": {
    "tags": []
   },
   "outputs": [],
   "source": [
    "# Read data into df\n",
    "url <- \"https://raw.githubusercontent.com/incribo-inc/stroke_prediction/main/stroke_prediction_dataset.csv\"\n",
    "stroke <- read.csv(url)"
   ]
  },
  {
   "cell_type": "code",
   "execution_count": 27,
   "id": "a23c4ef3-388e-4265-a844-985f211eceb8",
   "metadata": {
    "tags": []
   },
   "outputs": [
    {
     "data": {
      "text/html": [
       "<table class=\"dataframe\">\n",
       "<caption>A data.frame: 15000 × 10</caption>\n",
       "<thead>\n",
       "\t<tr><th scope=col>age</th><th scope=col>gender</th><th scope=col>hypertension</th><th scope=col>heart_disease</th><th scope=col>alcohol_intake</th><th scope=col>activity</th><th scope=col>family_history</th><th scope=col>diet</th><th scope=col>stress</th><th scope=col>dx</th></tr>\n",
       "\t<tr><th scope=col>&lt;int&gt;</th><th scope=col>&lt;chr&gt;</th><th scope=col>&lt;int&gt;</th><th scope=col>&lt;int&gt;</th><th scope=col>&lt;chr&gt;</th><th scope=col>&lt;chr&gt;</th><th scope=col>&lt;chr&gt;</th><th scope=col>&lt;chr&gt;</th><th scope=col>&lt;dbl&gt;</th><th scope=col>&lt;chr&gt;</th></tr>\n",
       "</thead>\n",
       "<tbody>\n",
       "\t<tr><td>56</td><td>Male</td><td>0</td><td>1</td><td>Social Drinker</td><td>Moderate</td><td>Yes</td><td>Vegan</td><td>3.48</td><td>Stroke</td></tr>\n",
       "\t<tr><td>80</td><td>Male</td><td>0</td><td>0</td><td>Never         </td><td>Low     </td><td>No </td><td>Paleo</td><td>1.73</td><td>Stroke</td></tr>\n",
       "\t<tr><td>26</td><td>Male</td><td>1</td><td>1</td><td>Rarely        </td><td>High    </td><td>Yes</td><td>Paleo</td><td>7.31</td><td>Stroke</td></tr>\n",
       "\t<tr><td>⋮</td><td>⋮</td><td>⋮</td><td>⋮</td><td>⋮</td><td>⋮</td><td>⋮</td><td>⋮</td><td>⋮</td><td>⋮</td></tr>\n",
       "\t<tr><td>35</td><td>Male  </td><td>0</td><td>0</td><td>Rarely</td><td>High    </td><td>No </td><td>Paleo</td><td>0.51</td><td>Stroke   </td></tr>\n",
       "\t<tr><td>73</td><td>Male  </td><td>0</td><td>0</td><td>Never </td><td>High    </td><td>Yes</td><td>Paleo</td><td>1.53</td><td>No Stroke</td></tr>\n",
       "\t<tr><td>64</td><td>Female</td><td>0</td><td>0</td><td>Rarely</td><td>Moderate</td><td>No </td><td>Vegan</td><td>4.57</td><td>Stroke   </td></tr>\n",
       "</tbody>\n",
       "</table>\n"
      ],
      "text/latex": [
       "A data.frame: 15000 × 10\n",
       "\\begin{tabular}{llllllllll}\n",
       " age & gender & hypertension & heart\\_disease & alcohol\\_intake & activity & family\\_history & diet & stress & dx\\\\\n",
       " <int> & <chr> & <int> & <int> & <chr> & <chr> & <chr> & <chr> & <dbl> & <chr>\\\\\n",
       "\\hline\n",
       "\t 56 & Male & 0 & 1 & Social Drinker & Moderate & Yes & Vegan & 3.48 & Stroke\\\\\n",
       "\t 80 & Male & 0 & 0 & Never          & Low      & No  & Paleo & 1.73 & Stroke\\\\\n",
       "\t 26 & Male & 1 & 1 & Rarely         & High     & Yes & Paleo & 7.31 & Stroke\\\\\n",
       "\t ⋮ & ⋮ & ⋮ & ⋮ & ⋮ & ⋮ & ⋮ & ⋮ & ⋮ & ⋮\\\\\n",
       "\t 35 & Male   & 0 & 0 & Rarely & High     & No  & Paleo & 0.51 & Stroke   \\\\\n",
       "\t 73 & Male   & 0 & 0 & Never  & High     & Yes & Paleo & 1.53 & No Stroke\\\\\n",
       "\t 64 & Female & 0 & 0 & Rarely & Moderate & No  & Vegan & 4.57 & Stroke   \\\\\n",
       "\\end{tabular}\n"
      ],
      "text/markdown": [
       "\n",
       "A data.frame: 15000 × 10\n",
       "\n",
       "| age &lt;int&gt; | gender &lt;chr&gt; | hypertension &lt;int&gt; | heart_disease &lt;int&gt; | alcohol_intake &lt;chr&gt; | activity &lt;chr&gt; | family_history &lt;chr&gt; | diet &lt;chr&gt; | stress &lt;dbl&gt; | dx &lt;chr&gt; |\n",
       "|---|---|---|---|---|---|---|---|---|---|\n",
       "| 56 | Male | 0 | 1 | Social Drinker | Moderate | Yes | Vegan | 3.48 | Stroke |\n",
       "| 80 | Male | 0 | 0 | Never          | Low      | No  | Paleo | 1.73 | Stroke |\n",
       "| 26 | Male | 1 | 1 | Rarely         | High     | Yes | Paleo | 7.31 | Stroke |\n",
       "| ⋮ | ⋮ | ⋮ | ⋮ | ⋮ | ⋮ | ⋮ | ⋮ | ⋮ | ⋮ |\n",
       "| 35 | Male   | 0 | 0 | Rarely | High     | No  | Paleo | 0.51 | Stroke    |\n",
       "| 73 | Male   | 0 | 0 | Never  | High     | Yes | Paleo | 1.53 | No Stroke |\n",
       "| 64 | Female | 0 | 0 | Rarely | Moderate | No  | Vegan | 4.57 | Stroke    |\n",
       "\n"
      ],
      "text/plain": [
       "      age gender hypertension heart_disease alcohol_intake activity\n",
       "1     56  Male   0            1             Social Drinker Moderate\n",
       "2     80  Male   0            0             Never          Low     \n",
       "3     26  Male   1            1             Rarely         High    \n",
       "⋮     ⋮   ⋮      ⋮            ⋮             ⋮              ⋮       \n",
       "14998 35  Male   0            0             Rarely         High    \n",
       "14999 73  Male   0            0             Never          High    \n",
       "15000 64  Female 0            0             Rarely         Moderate\n",
       "      family_history diet  stress dx       \n",
       "1     Yes            Vegan 3.48   Stroke   \n",
       "2     No             Paleo 1.73   Stroke   \n",
       "3     Yes            Paleo 7.31   Stroke   \n",
       "⋮     ⋮              ⋮     ⋮      ⋮        \n",
       "14998 No             Paleo 0.51   Stroke   \n",
       "14999 Yes            Paleo 1.53   No Stroke\n",
       "15000 No             Vegan 4.57   Stroke   "
      ]
     },
     "metadata": {},
     "output_type": "display_data"
    }
   ],
   "source": [
    "# set seed - don't change!\n",
    "set.seed(1234)\n",
    "\n",
    "# wrangling\n",
    "stroke_selected <- stroke |>\n",
    "    select(Age, Gender, Hypertension, Heart.Disease, Alcohol.Intake, \n",
    "           Physical.Activity, Family.History.of.Stroke,\n",
    "           Dietary.Habits, Stress.Levels, Diagnosis)\n",
    "\n",
    "# rename columns\n",
    "stroke_renamed <- stroke_selected |>\n",
    "    rename(age = Age,\n",
    "           gender = Gender,\n",
    "           hypertension = Hypertension,\n",
    "           heart_disease = Heart.Disease,\n",
    "           alcohol_intake = Alcohol.Intake,\n",
    "           activity = Physical.Activity,\n",
    "           family_history = Family.History.of.Stroke,\n",
    "           diet = Dietary.Habits,\n",
    "           stress = Stress.Levels,\n",
    "           dx = Diagnosis)\n",
    "\n",
    "stroke_renamed\n",
    "\n"
   ]
  },
  {
   "cell_type": "code",
   "execution_count": 28,
   "id": "fb3a3902-9623-4627-8998-c6efbe8b7081",
   "metadata": {
    "tags": []
   },
   "outputs": [
    {
     "data": {
      "text/html": [
       "<style>\n",
       ".list-inline {list-style: none; margin:0; padding: 0}\n",
       ".list-inline>li {display: inline-block}\n",
       ".list-inline>li:not(:last-child)::after {content: \"\\00b7\"; padding: 0 .5ex}\n",
       "</style>\n",
       "<ol class=list-inline><li>'Vegan'</li><li>'Paleo'</li><li>'Pescatarian'</li><li>'Gluten-Free'</li><li>'Vegetarian'</li><li>'Non-Vegetarian'</li><li>'Keto'</li></ol>\n"
      ],
      "text/latex": [
       "\\begin{enumerate*}\n",
       "\\item 'Vegan'\n",
       "\\item 'Paleo'\n",
       "\\item 'Pescatarian'\n",
       "\\item 'Gluten-Free'\n",
       "\\item 'Vegetarian'\n",
       "\\item 'Non-Vegetarian'\n",
       "\\item 'Keto'\n",
       "\\end{enumerate*}\n"
      ],
      "text/markdown": [
       "1. 'Vegan'\n",
       "2. 'Paleo'\n",
       "3. 'Pescatarian'\n",
       "4. 'Gluten-Free'\n",
       "5. 'Vegetarian'\n",
       "6. 'Non-Vegetarian'\n",
       "7. 'Keto'\n",
       "\n",
       "\n"
      ],
      "text/plain": [
       "[1] \"Vegan\"          \"Paleo\"          \"Pescatarian\"    \"Gluten-Free\"   \n",
       "[5] \"Vegetarian\"     \"Non-Vegetarian\" \"Keto\"          "
      ]
     },
     "metadata": {},
     "output_type": "display_data"
    }
   ],
   "source": [
    "unique(stroke_renamed$diet)"
   ]
  },
  {
   "cell_type": "code",
   "execution_count": 26,
   "id": "63b74af8-9acd-4b17-acfc-be18d009edac",
   "metadata": {
    "tags": []
   },
   "outputs": [],
   "source": [
    "# split data\n",
    "# we are using 9 predictors, so 67% data used as training, 33% predicting\n",
    "\n",
    "stroke_split <- initial_split(stroke_renamed, prop = 0.67, strata = dx)\n",
    "stroke_train <- training(stroke_split)\n",
    "stroke_test <- testing(stroke_split)\n",
    "\n",
    "#stroke_train\n",
    "#stroke_test"
   ]
  },
  {
   "cell_type": "code",
   "execution_count": 24,
   "id": "caecffe6-5c30-424f-9552-af282c759e87",
   "metadata": {},
   "outputs": [
    {
     "name": "stderr",
     "output_type": "stream",
     "text": [
      "Warning message:\n",
      "“\u001b[1m\u001b[22mThere were 10 warnings in `summarize()`.\n",
      "The first warning was:\n",
      "\u001b[1m\u001b[22m\u001b[36mℹ\u001b[39m In argument: `mean_gender = mean(gender, na.rm = TRUE)`.\n",
      "\u001b[36mℹ\u001b[39m In group 1: `dx = \"No Stroke\"`.\n",
      "Caused by warning in `mean.default()`:\n",
      "\u001b[33m!\u001b[39m argument is not numeric or logical: returning NA\n",
      "\u001b[1m\u001b[22m\u001b[36mℹ\u001b[39m Run `dplyr::last_dplyr_warnings()` to see the 9 remaining warnings.”\n"
     ]
    },
    {
     "data": {
      "text/html": [
       "<table class=\"dataframe\">\n",
       "<caption>A tibble: 2 × 9</caption>\n",
       "<thead>\n",
       "\t<tr><th scope=col>mean_age</th><th scope=col>mean_gender</th><th scope=col>mean_hypertension</th><th scope=col>mean_heart_disease</th><th scope=col>mean_alcohol</th><th scope=col>mean_activity</th><th scope=col>mean_famhist</th><th scope=col>mean_diet</th><th scope=col>mean_stress</th></tr>\n",
       "\t<tr><th scope=col>&lt;dbl&gt;</th><th scope=col>&lt;dbl&gt;</th><th scope=col>&lt;dbl&gt;</th><th scope=col>&lt;dbl&gt;</th><th scope=col>&lt;dbl&gt;</th><th scope=col>&lt;dbl&gt;</th><th scope=col>&lt;dbl&gt;</th><th scope=col>&lt;dbl&gt;</th><th scope=col>&lt;dbl&gt;</th></tr>\n",
       "</thead>\n",
       "<tbody>\n",
       "\t<tr><td>54.0759</td><td>NA</td><td>0.2471264</td><td>0.4992073</td><td>NA</td><td>NA</td><td>NA</td><td>NA</td><td>5.076141</td></tr>\n",
       "\t<tr><td>54.3306</td><td>NA</td><td>0.2448531</td><td>0.4983010</td><td>NA</td><td>NA</td><td>NA</td><td>NA</td><td>4.970406</td></tr>\n",
       "</tbody>\n",
       "</table>\n"
      ],
      "text/latex": [
       "A tibble: 2 × 9\n",
       "\\begin{tabular}{lllllllll}\n",
       " mean\\_age & mean\\_gender & mean\\_hypertension & mean\\_heart\\_disease & mean\\_alcohol & mean\\_activity & mean\\_famhist & mean\\_diet & mean\\_stress\\\\\n",
       " <dbl> & <dbl> & <dbl> & <dbl> & <dbl> & <dbl> & <dbl> & <dbl> & <dbl>\\\\\n",
       "\\hline\n",
       "\t 54.0759 & NA & 0.2471264 & 0.4992073 & NA & NA & NA & NA & 5.076141\\\\\n",
       "\t 54.3306 & NA & 0.2448531 & 0.4983010 & NA & NA & NA & NA & 4.970406\\\\\n",
       "\\end{tabular}\n"
      ],
      "text/markdown": [
       "\n",
       "A tibble: 2 × 9\n",
       "\n",
       "| mean_age &lt;dbl&gt; | mean_gender &lt;dbl&gt; | mean_hypertension &lt;dbl&gt; | mean_heart_disease &lt;dbl&gt; | mean_alcohol &lt;dbl&gt; | mean_activity &lt;dbl&gt; | mean_famhist &lt;dbl&gt; | mean_diet &lt;dbl&gt; | mean_stress &lt;dbl&gt; |\n",
       "|---|---|---|---|---|---|---|---|---|\n",
       "| 54.0759 | NA | 0.2471264 | 0.4992073 | NA | NA | NA | NA | 5.076141 |\n",
       "| 54.3306 | NA | 0.2448531 | 0.4983010 | NA | NA | NA | NA | 4.970406 |\n",
       "\n"
      ],
      "text/plain": [
       "  mean_age mean_gender mean_hypertension mean_heart_disease mean_alcohol\n",
       "1 54.0759  NA          0.2471264         0.4992073          NA          \n",
       "2 54.3306  NA          0.2448531         0.4983010          NA          \n",
       "  mean_activity mean_famhist mean_diet mean_stress\n",
       "1 NA            NA           NA        5.076141   \n",
       "2 NA            NA           NA        4.970406   "
      ]
     },
     "metadata": {},
     "output_type": "display_data"
    }
   ],
   "source": [
    "# summarizing observations per class, means of variables, missing data counts for diagnosed strokes\n",
    "\n",
    "stroke_summary <- stroke_train |>\n",
    "    group_by(dx) |>\n",
    "    summarize(\n",
    "        count = n(),\n",
    "        mean_age = mean(age, na.rm = TRUE),\n",
    "        mean_gender = mean(gender, na.rm = TRUE),\n",
    "        mean_hypertension = mean(hypertension, na.rm = TRUE),\n",
    "        mean_heart_disease = mean(heart_disease, na.rm = TRUE),\n",
    "        mean_alcohol = mean(alcohol_intake, na.rm = TRUE),\n",
    "        mean_activity = mean(activity, na.rm = TRUE),\n",
    "        mean_famhist = mean(family_history, na.rm = TRUE),\n",
    "        mean_diet = mean(diet, na.rm = TRUE),\n",
    "        mean_stress = mean(stress, na.rm = TRUE),\n",
    "        missing_age = sum(is.na(age)),\n",
    "        missing_gender = sum(is.na(gender)),\n",
    "        missing_hypertension = sum(is.na(hypertension)),\n",
    "        missing_heart_disease = sum(is.na(heart_disease)),\n",
    "        missing_alcohol = sum(is.na(alcohol_intake)),\n",
    "        missing_activity = sum(is.na(activity)),\n",
    "        missing_famhist = sum(is.na(family_history)),\n",
    "        missing_diet = sum(is.na(diet)),\n",
    "        missing_stress = sum(is.na(stress)),\n",
    "        )\n",
    "\n",
    "# after printing the above table, there were no missing values for any columns\n",
    "# additionally\n",
    "# for clarity, these columns were omitted\n",
    "\n",
    "stroke_summary <- stroke_summary |>\n",
    "    select(mean_age, mean_gender, mean_hypertension, \n",
    "           mean_heart_disease, mean_alcohol, mean_activity,\n",
    "           mean_famhist, mean_diet, mean_stress)\n",
    "\n",
    "stroke_summary\n",
    "        \n",
    "      "
   ]
  },
  {
   "cell_type": "code",
   "execution_count": null,
   "id": "3f2b53c6-b9cd-46cd-bb56-5c4111d2ab35",
   "metadata": {},
   "outputs": [],
   "source": []
  }
 ],
 "metadata": {
  "kernelspec": {
   "display_name": "R",
   "language": "R",
   "name": "ir"
  },
  "language_info": {
   "codemirror_mode": "r",
   "file_extension": ".r",
   "mimetype": "text/x-r-source",
   "name": "R",
   "pygments_lexer": "r",
   "version": "4.2.2"
  }
 },
 "nbformat": 4,
 "nbformat_minor": 5
}
