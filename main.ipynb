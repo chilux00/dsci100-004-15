{
 "cells": [
  {
   "cell_type": "code",
   "execution_count": 1,
   "id": "aeed5eb3-c1c3-4abc-b6e2-8d4fa4db02ed",
   "metadata": {},
   "outputs": [],
   "source": [
    "#### This is the main data file (to be handed in)#####\n",
    "\n",
    "# Please read the following before adding changes to this document:\n",
    "# 1. Does the code you are running work? (Have you run the code in your personal draft file and it returns no error?)\n",
    "# 2. Have you consulted in the group chat before committing your code?\n",
    "# 3. Be sure to add a comment for what the code added is for, and also your initials, so we can track changes!\n",
    "# 4. Commit often so that we can see the history of changes.\n",
    "# 5. Before pushing your changes to GitHub, remember that all changes will override the final file.\n",
    "\n",
    "# Example below - Ching has added the data file."
   ]
  },
  {
   "cell_type": "code",
   "execution_count": 8,
   "id": "aedb4b7b-f3bd-4ee7-9660-c07e90a3cc03",
   "metadata": {
    "tags": []
   },
   "outputs": [
    {
     "name": "stderr",
     "output_type": "stream",
     "text": [
      "── \u001b[1mAttaching packages\u001b[22m ────────────────────────────────────── tidymodels 1.0.0 ──\n",
      "\n",
      "\u001b[32m✔\u001b[39m \u001b[34mbroom       \u001b[39m 1.0.2     \u001b[32m✔\u001b[39m \u001b[34mrsample     \u001b[39m 1.1.1\n",
      "\u001b[32m✔\u001b[39m \u001b[34mdials       \u001b[39m 1.1.0     \u001b[32m✔\u001b[39m \u001b[34mtune        \u001b[39m 1.0.1\n",
      "\u001b[32m✔\u001b[39m \u001b[34minfer       \u001b[39m 1.0.4     \u001b[32m✔\u001b[39m \u001b[34mworkflows   \u001b[39m 1.1.2\n",
      "\u001b[32m✔\u001b[39m \u001b[34mmodeldata   \u001b[39m 1.0.1     \u001b[32m✔\u001b[39m \u001b[34mworkflowsets\u001b[39m 1.0.0\n",
      "\u001b[32m✔\u001b[39m \u001b[34mparsnip     \u001b[39m 1.0.3     \u001b[32m✔\u001b[39m \u001b[34myardstick   \u001b[39m 1.1.0\n",
      "\u001b[32m✔\u001b[39m \u001b[34mrecipes     \u001b[39m 1.0.4     \n",
      "\n",
      "── \u001b[1mConflicts\u001b[22m ───────────────────────────────────────── tidymodels_conflicts() ──\n",
      "\u001b[31m✖\u001b[39m \u001b[34mscales\u001b[39m::\u001b[32mdiscard()\u001b[39m masks \u001b[34mpurrr\u001b[39m::discard()\n",
      "\u001b[31m✖\u001b[39m \u001b[34mdplyr\u001b[39m::\u001b[32mfilter()\u001b[39m   masks \u001b[34mstats\u001b[39m::filter()\n",
      "\u001b[31m✖\u001b[39m \u001b[34mrecipes\u001b[39m::\u001b[32mfixed()\u001b[39m  masks \u001b[34mstringr\u001b[39m::fixed()\n",
      "\u001b[31m✖\u001b[39m \u001b[34mdplyr\u001b[39m::\u001b[32mlag()\u001b[39m      masks \u001b[34mstats\u001b[39m::lag()\n",
      "\u001b[31m✖\u001b[39m \u001b[34myardstick\u001b[39m::\u001b[32mspec()\u001b[39m masks \u001b[34mreadr\u001b[39m::spec()\n",
      "\u001b[31m✖\u001b[39m \u001b[34mrecipes\u001b[39m::\u001b[32mstep()\u001b[39m   masks \u001b[34mstats\u001b[39m::step()\n",
      "\u001b[34m•\u001b[39m Use \u001b[32mtidymodels_prefer()\u001b[39m to resolve common conflicts.\n",
      "\n"
     ]
    }
   ],
   "source": [
    "# CZ - Run cell before starting workspace - loads necessary packages\n",
    "\n",
    "library(tidyverse)\n",
    "library(repr)\n",
    "library(tidymodels)\n",
    "options(repr.matrix.max.rows = 6)"
   ]
  },
  {
   "cell_type": "code",
   "execution_count": 3,
   "id": "93cd3409-cb06-4fb2-974a-e176ac3061d0",
   "metadata": {
    "tags": []
   },
   "outputs": [],
   "source": [
    "# CZ - upload and read the data file from raw github hosted source\n",
    "url <- \"https://raw.githubusercontent.com/incribo-inc/stroke_prediction/main/stroke_prediction_dataset.csv\"\n",
    "stroke <- read.csv(url)"
   ]
  },
  {
   "cell_type": "code",
   "execution_count": 4,
   "id": "e74c610f-5b60-46cf-ba51-530b6a122d1e",
   "metadata": {
    "tags": []
   },
   "outputs": [],
   "source": [
    "# CZ - paste completed proposal from Google Doc, format markdown"
   ]
  },
  {
   "cell_type": "markdown",
   "id": "be6ad706-157e-43bf-b65b-2660d9d6b85b",
   "metadata": {},
   "source": [
    "## [Predicting Stroke Likelihood based on Demographic, Health History, and Lifestyle Metrics](\"https://raw.githubusercontent.com/incribo-inc/stroke_prediction/main/stroke_prediction_dataset.csv\")    \n",
    "### Introduction:   \n",
    "Our project will focus on stroke likeliness prediction using varying metrics that can assess stroke factors in a patient. [A stroke is a medical condition in which blood flow to the brain is disrupted in some way](\"https://www.cdc.gov/stroke/about.htm#:~:text=A%20stroke%2C%20sometimes%20called%20a,term%20disability%2C%20or%20even%20death.\"). There are two ways a stroke can occur: arteries within the brain rupture (hemorrhagic) or are blocked by a blood clot (ischemic). Strokes can cause brain damage or in severe cases, death. [Stroke risk factors](\"https://www.mayoclinic.org/diseases-conditions/stroke/symptoms-causes/syc-20350113\") include arterial plaque buildup and hypertension. Lifestyle metrics and genetic history can also be important determinants in stroke likelihood.   \n",
    "  \n",
    "Through our project, we aim to answer the question *“How can we predict stroke likelihood given predictors of lifestyle, socioeconomic demographics, and health?”* \n",
    "  \n",
    "We will use a synthetically generated dataset with stroke prediction metrics, called “[stroke_prediction.csv](\"https://raw.githubusercontent.com/incribo-inc/stroke_prediction/main/stroke_prediction_dataset.csv\")”. Each patient observation contains a range of stroke metrics and the diagnosis of stroke.  Some variables included (but are not limited to) in this data are Age, Gender, Hypertension, Heart Disease, Average Glucose Level, Body Mass Index (BMI), etc. More than 15,000 records included in this dataset, therefore there is enough standing data to use in a KNN classification algorithm for prediction.    \n",
    "\n",
    "### Methods:    \n",
    "We will create 3 KNN-classification prediction models using stroke metrics to predict the likelihood of a stroke. The first will use demographic predictors of age, gender and family stroke history. The second will use health predictors of heart disease, stress levels and hypertension, and the third will use lifestyle predictors of alcohol consumption, physical activity and dietary habits.   \n",
    "  \n",
    "We will split the dataset into a training set and testing set, and use cross-validation to determine the best K-value for each of the 3 models. Scatter plots will be used to visualize each prediction model. After training the knn-algorithm, we will evaluate the three prediction models using the testing set. We will cross-compare the three models to determine which predicts stroke likelihood with the most confidence.   \n",
    "  \n",
    "As a further investigation, we will use all three prediction models to evaluate a random sample patient with observations from all three predictor set metrics. This simulates a real-world application where an individual can be analyzed holistically through multiple facets.  \n",
    "  \n",
    "### Expected Outcomes and Significance:  \n",
    "We hypothesize the health metrics category predictors will have the highest accuracy to be used as a prediction model to find out a patient's stroke history status. Literature suggests that hypertension and heart disease specifically are well-known comorbidities for stroke.  \n",
    "  \n",
    "These findings can be essential in clinical and public health applications. By creating a model that assesses predictors of stroke metrics, public health officials can identify key areas for improvement with preventative health. An algorithm that can be developed on this data can also be useful for identifying high-risk populations and starting preventative health intervention early.  \n",
    "  \n",
    "A future question that can be addressed following this algorithm if there other demographic, health, or lifestyle factors that were not considered in this study but might also influence stroke risk?\n"
   ]
  },
  {
   "cell_type": "code",
   "execution_count": 6,
   "id": "8b3ca2bc-bb0d-4c5c-8e49-9441ba4fdc5d",
   "metadata": {
    "tags": []
   },
   "outputs": [],
   "source": [
    "# set seed - don't change!\n",
    "set.seed(1234)\n",
    "\n",
    "# wrangling - selects cols for prediction\n",
    "stroke_selected <- stroke |>\n",
    "    select(Age, Gender, Hypertension, Heart.Disease, Alcohol.Intake, \n",
    "           Physical.Activity, Family.History.of.Stroke,\n",
    "           Dietary.Habits, Stress.Levels, Diagnosis)\n",
    "\n",
    "# rename columns\n",
    "stroke_renamed <- stroke_selected |>\n",
    "    rename(age = Age,\n",
    "           gender = Gender,\n",
    "           hypertension = Hypertension,\n",
    "           heart_disease = Heart.Disease,\n",
    "           alcohol_intake = Alcohol.Intake,\n",
    "           activity = Physical.Activity,\n",
    "           family_history = Family.History.of.Stroke,\n",
    "           diet = Dietary.Habits,\n",
    "           stress = Stress.Levels,\n",
    "           dx = Diagnosis)\n",
    "\n",
    "# wrangle categorical columns\n",
    "stroke_renamed$gender <- as.numeric(factor(stroke_renamed$gender,\n",
    "                                           levels = c(\"Male\", \"Female\"),\n",
    "                                           labels = c(1, 0)))\n",
    "stroke_renamed$alcohol_intake <- as.numeric(factor(stroke_renamed$alcohol_intake,\n",
    "                                           levels = c(\"Never\", \"Rarely\", \"Social Drinker\", \"Frequent Drinker\"),\n",
    "                                           labels = c(0, 1, 2, 3)))\n",
    "\n",
    "stroke_renamed$family_history <- as.numeric(factor(stroke_renamed$family_history,\n",
    "                                           levels = c(\"Yes\", \"No\"),\n",
    "                                           labels = c(1, 0)))\n",
    "stroke_renamed$activity <- as.numeric(factor(stroke_renamed$activity,\n",
    "                                             levels = c(\"Moderate\", \"Low\", \"High\"),\n",
    "                                             labels = c(2, 1, 3)))            \n",
    "\n",
    "# stroke_renamed"
   ]
  },
  {
   "cell_type": "code",
   "execution_count": 9,
   "id": "1ebb57fc-2f0e-4c72-a17f-a9e3e6ed6077",
   "metadata": {
    "tags": []
   },
   "outputs": [],
   "source": [
    "# split data\n",
    "# we are using 9 predictors, so 2/3 = 67% data used as training, 1/3 = 33% predicting\n",
    "\n",
    "stroke_split <- initial_split(stroke_renamed, prop = 0.67, strata = dx)\n",
    "stroke_train <- training(stroke_split)\n",
    "stroke_test <- testing(stroke_split)\n",
    "\n",
    "# stroke_train\n",
    "# stroke_test"
   ]
  },
  {
   "cell_type": "code",
   "execution_count": 10,
   "id": "6c3e16f0-5025-401d-b739-fab2558207ff",
   "metadata": {
    "tags": []
   },
   "outputs": [
    {
     "name": "stderr",
     "output_type": "stream",
     "text": [
      "Warning message:\n",
      "“\u001b[1m\u001b[22mThere were 2 warnings in `summarize()`.\n",
      "The first warning was:\n",
      "\u001b[1m\u001b[22m\u001b[36mℹ\u001b[39m In argument: `mean_diet = mean(diet, na.rm = TRUE)`.\n",
      "\u001b[36mℹ\u001b[39m In group 1: `dx = \"No Stroke\"`.\n",
      "Caused by warning in `mean.default()`:\n",
      "\u001b[33m!\u001b[39m argument is not numeric or logical: returning NA\n",
      "\u001b[1m\u001b[22m\u001b[36mℹ\u001b[39m Run `dplyr::last_dplyr_warnings()` to see the 1 remaining warning.”\n"
     ]
    },
    {
     "data": {
      "text/html": [
       "<table class=\"dataframe\">\n",
       "<caption>A tibble: 2 × 9</caption>\n",
       "<thead>\n",
       "\t<tr><th scope=col>mean_age</th><th scope=col>mean_gender</th><th scope=col>mean_hypertension</th><th scope=col>mean_heart_disease</th><th scope=col>mean_alcohol</th><th scope=col>mean_activity</th><th scope=col>mean_famhist</th><th scope=col>mean_diet</th><th scope=col>mean_stress</th></tr>\n",
       "\t<tr><th scope=col>&lt;dbl&gt;</th><th scope=col>&lt;dbl&gt;</th><th scope=col>&lt;dbl&gt;</th><th scope=col>&lt;dbl&gt;</th><th scope=col>&lt;dbl&gt;</th><th scope=col>&lt;dbl&gt;</th><th scope=col>&lt;dbl&gt;</th><th scope=col>&lt;dbl&gt;</th><th scope=col>&lt;dbl&gt;</th></tr>\n",
       "</thead>\n",
       "<tbody>\n",
       "\t<tr><td>54.0759</td><td>1.484146</td><td>0.2471264</td><td>0.4992073</td><td>2.511296</td><td>2.007729</td><td>1.487515</td><td>NA</td><td>5.076141</td></tr>\n",
       "\t<tr><td>54.3306</td><td>1.491905</td><td>0.2448531</td><td>0.4983010</td><td>2.495503</td><td>2.000000</td><td>1.502499</td><td>NA</td><td>4.970406</td></tr>\n",
       "</tbody>\n",
       "</table>\n"
      ],
      "text/latex": [
       "A tibble: 2 × 9\n",
       "\\begin{tabular}{lllllllll}\n",
       " mean\\_age & mean\\_gender & mean\\_hypertension & mean\\_heart\\_disease & mean\\_alcohol & mean\\_activity & mean\\_famhist & mean\\_diet & mean\\_stress\\\\\n",
       " <dbl> & <dbl> & <dbl> & <dbl> & <dbl> & <dbl> & <dbl> & <dbl> & <dbl>\\\\\n",
       "\\hline\n",
       "\t 54.0759 & 1.484146 & 0.2471264 & 0.4992073 & 2.511296 & 2.007729 & 1.487515 & NA & 5.076141\\\\\n",
       "\t 54.3306 & 1.491905 & 0.2448531 & 0.4983010 & 2.495503 & 2.000000 & 1.502499 & NA & 4.970406\\\\\n",
       "\\end{tabular}\n"
      ],
      "text/markdown": [
       "\n",
       "A tibble: 2 × 9\n",
       "\n",
       "| mean_age &lt;dbl&gt; | mean_gender &lt;dbl&gt; | mean_hypertension &lt;dbl&gt; | mean_heart_disease &lt;dbl&gt; | mean_alcohol &lt;dbl&gt; | mean_activity &lt;dbl&gt; | mean_famhist &lt;dbl&gt; | mean_diet &lt;dbl&gt; | mean_stress &lt;dbl&gt; |\n",
       "|---|---|---|---|---|---|---|---|---|\n",
       "| 54.0759 | 1.484146 | 0.2471264 | 0.4992073 | 2.511296 | 2.007729 | 1.487515 | NA | 5.076141 |\n",
       "| 54.3306 | 1.491905 | 0.2448531 | 0.4983010 | 2.495503 | 2.000000 | 1.502499 | NA | 4.970406 |\n",
       "\n"
      ],
      "text/plain": [
       "  mean_age mean_gender mean_hypertension mean_heart_disease mean_alcohol\n",
       "1 54.0759  1.484146    0.2471264         0.4992073          2.511296    \n",
       "2 54.3306  1.491905    0.2448531         0.4983010          2.495503    \n",
       "  mean_activity mean_famhist mean_diet mean_stress\n",
       "1 2.007729      1.487515     NA        5.076141   \n",
       "2 2.000000      1.502499     NA        4.970406   "
      ]
     },
     "metadata": {},
     "output_type": "display_data"
    }
   ],
   "source": [
    "# summarizing observations per class, means of variables, missing data counts for diagnosed strokes\n",
    "\n",
    "stroke_summary <- stroke_train |>\n",
    "    group_by(dx) |>\n",
    "    summarize(\n",
    "        count = n(),\n",
    "        mean_age = mean(age, na.rm = TRUE),\n",
    "        mean_gender = mean(gender, na.rm = TRUE),\n",
    "        mean_hypertension = mean(hypertension, na.rm = TRUE),\n",
    "        mean_heart_disease = mean(heart_disease, na.rm = TRUE),\n",
    "        mean_alcohol = mean(alcohol_intake, na.rm = TRUE),\n",
    "        mean_activity = mean(activity, na.rm = TRUE),\n",
    "        mean_famhist = mean(family_history, na.rm = TRUE),\n",
    "        mean_diet = mean(diet, na.rm = TRUE),\n",
    "        mean_stress = mean(stress, na.rm = TRUE),\n",
    "        missing_age = sum(is.na(age)),\n",
    "        missing_gender = sum(is.na(gender)),\n",
    "        missing_hypertension = sum(is.na(hypertension)),\n",
    "        missing_heart_disease = sum(is.na(heart_disease)),\n",
    "        missing_alcohol = sum(is.na(alcohol_intake)),\n",
    "        missing_activity = sum(is.na(activity)),\n",
    "        missing_famhist = sum(is.na(family_history)),\n",
    "        missing_diet = sum(is.na(diet)),\n",
    "        missing_stress = sum(is.na(stress)),\n",
    "        )\n",
    "\n",
    "# after printing the above table, there were no missing values for any columns\n",
    "# additionally\n",
    "# for clarity, these columns were omitted\n",
    "\n",
    "stroke_summary <- stroke_summary |>\n",
    "    select(mean_age, mean_gender, mean_hypertension, \n",
    "           mean_heart_disease, mean_alcohol, mean_activity,\n",
    "           mean_famhist, mean_diet, mean_stress)\n",
    "\n",
    "stroke_summary\n",
    "        \n",
    "      "
   ]
  },
  {
   "cell_type": "code",
   "execution_count": null,
   "id": "bcb137b2-715d-4e98-8ff9-7167a5fe73d1",
   "metadata": {},
   "outputs": [],
   "source": []
  }
 ],
 "metadata": {
  "kernelspec": {
   "display_name": "R",
   "language": "R",
   "name": "ir"
  },
  "language_info": {
   "codemirror_mode": "r",
   "file_extension": ".r",
   "mimetype": "text/x-r-source",
   "name": "R",
   "pygments_lexer": "r",
   "version": "4.2.2"
  }
 },
 "nbformat": 4,
 "nbformat_minor": 5
}
