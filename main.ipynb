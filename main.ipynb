{
 "cells": [
  {
   "cell_type": "code",
   "execution_count": null,
   "id": "aeed5eb3-c1c3-4abc-b6e2-8d4fa4db02ed",
   "metadata": {},
   "outputs": [],
   "source": [
    "#### This is the main data file (to be handed in)#####\n",
    "\n",
    "# Please read the following before adding changes to this document:\n",
    "# 1. Does the code you are running work? (Have you run the code in your personal draft file and it returns no error?)\n",
    "# 2. Have you consulted in the group chat before committing your code?\n",
    "# 3. Be sure to add a comment for what the code added is for, and also your initials, so we can track changes!\n",
    "# 4. Commit often so that we can see the history of changes.\n",
    "# 5. Before pushing your changes to GitHub, remember that all changes will override the final file.\n",
    "\n",
    "# Example below - Ching has added the data file."
   ]
  },
  {
   "cell_type": "code",
   "execution_count": null,
   "id": "aedb4b7b-f3bd-4ee7-9660-c07e90a3cc03",
   "metadata": {
    "tags": []
   },
   "outputs": [],
   "source": [
    "# CZ - Run cell before starting workspace - loads necessary packages\n",
    "library(tidyverse)\n",
    "library(repr)\n",
    "library(readxl)"
   ]
  },
  {
   "cell_type": "code",
   "execution_count": 1,
   "id": "93cd3409-cb06-4fb2-974a-e176ac3061d0",
   "metadata": {
    "tags": []
   },
   "outputs": [],
   "source": [
    "# CZ - upload and read the data file from raw github hosted source\n",
    "url <- \"https://raw.githubusercontent.com/incribo-inc/stroke_prediction/main/stroke_prediction_dataset.csv\"\n",
    "stroke <- read.csv(url)"
   ]
  },
  {
   "cell_type": "code",
   "execution_count": 3,
   "id": "e74c610f-5b60-46cf-ba51-530b6a122d1e",
   "metadata": {
    "tags": []
   },
   "outputs": [],
   "source": [
    "# CZ - paste completed proposal from Google Doc, format markdown"
   ]
  },
  {
   "cell_type": "markdown",
   "id": "be6ad706-157e-43bf-b65b-2660d9d6b85b",
   "metadata": {},
   "source": [
    "## [Predicting Stroke Likelihood based on Demographic, Health History, and Lifestyle Metrics](\"https://raw.githubusercontent.com/incribo-inc/stroke_prediction/main/stroke_prediction_dataset.csv\")    \n",
    "### Introduction:   \n",
    "Our project will focus on stroke likeliness prediction using varying metrics that can assess stroke factors in a patient. [A stroke is a medical condition in which blood flow to the brain is disrupted in some way](\"https://www.cdc.gov/stroke/about.htm#:~:text=A%20stroke%2C%20sometimes%20called%20a,term%20disability%2C%20or%20even%20death.\"). There are two ways a stroke can occur: arteries within the brain rupture (hemorrhagic) or are blocked by a blood clot (ischemic). Strokes can cause brain damage or in severe cases, death. [Stroke risk factors](\"https://www.mayoclinic.org/diseases-conditions/stroke/symptoms-causes/syc-20350113\") include arterial plaque buildup and hypertension. Lifestyle metrics and genetic history can also be important determinants in stroke likelihood.   \n",
    "  \n",
    "Through our project, we aim to answer the question *“How can we predict stroke likelihood given predictors of lifestyle, socioeconomic demographics, and health?”* \n",
    "  \n",
    "We will use a synthetically generated dataset with stroke prediction metrics, called “[stroke_prediction.csv](\"https://raw.githubusercontent.com/incribo-inc/stroke_prediction/main/stroke_prediction_dataset.csv\")”. Each patient observation contains a range of stroke metrics and the diagnosis of stroke.  Some variables included (but are not limited to) in this data are Age, Gender, Hypertension, Heart Disease, Average Glucose Level, Body Mass Index (BMI), etc. More than 15,000 records included in this dataset, therefore there is enough standing data to use in a KNN classification algorithm for prediction.    \n",
    "\n",
    "### Methods:    \n",
    "We will create 3 KNN-classification prediction models using stroke metrics to predict the likelihood of a stroke. The first will use demographic predictors of age, gender and family stroke history. The second will use health predictors of heart disease, stress levels and hypertension, and the third will use lifestyle predictors of alcohol consumption, physical activity and dietary habits.   \n",
    "  \n",
    "We will split the dataset into a training set and testing set, and use cross-validation to determine the best K-value for each of the 3 models. Scatter plots will be used to visualize each prediction model. After training the knn-algorithm, we will evaluate the three prediction models using the testing set. We will cross-compare the three models to determine which predicts stroke likelihood with the most confidence.   \n",
    "  \n",
    "As a further investigation, we will use all three prediction models to evaluate a random sample patient with observations from all three predictor set metrics. This simulates a real-world application where an individual can be analyzed holistically through multiple facets.  \n",
    "  \n",
    "### Expected Outcomes and Significance:  \n",
    "We hypothesize the health metrics category predictors will have the highest accuracy to be used as a prediction model to find out a patient's stroke history status. Literature suggests that hypertension and heart disease specifically are well-known comorbidities for stroke.  \n",
    "  \n",
    "These findings can be essential in clinical and public health applications. By creating a model that assesses predictors of stroke metrics, public health officials can identify key areas for improvement with preventative health. An algorithm that can be developed on this data can also be useful for identifying high-risk populations and starting preventative health intervention early.  \n",
    "  \n",
    "A future question that can be addressed following this algorithm if there other demographic, health, or lifestyle factors that were not considered in this study but might also influence stroke risk?\n"
   ]
  },
  {
   "cell_type": "code",
   "execution_count": null,
   "id": "8b3ca2bc-bb0d-4c5c-8e49-9441ba4fdc5d",
   "metadata": {},
   "outputs": [],
   "source": []
  }
 ],
 "metadata": {
  "kernelspec": {
   "display_name": "R",
   "language": "R",
   "name": "ir"
  },
  "language_info": {
   "codemirror_mode": "r",
   "file_extension": ".r",
   "mimetype": "text/x-r-source",
   "name": "R",
   "pygments_lexer": "r",
   "version": "4.2.2"
  }
 },
 "nbformat": 4,
 "nbformat_minor": 5
}
