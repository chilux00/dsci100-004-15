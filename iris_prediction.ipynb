{
 "cells": [
  {
   "cell_type": "markdown",
   "id": "c51cfbd2-f49c-4648-b72c-9ad8497e79ef",
   "metadata": {},
   "source": [
    "## [Predicting Iris Flower type based on Petal measurements and Sepal measurements](\"https://archive.ics.uci.edu/dataset/53/iris\")"
   ]
  },
  {
   "cell_type": "markdown",
   "id": "620639cb-7ad5-4eec-8e54-156e322efc27",
   "metadata": {},
   "source": [
    " ### Introduction:   \n",
    "Our project will focus on ...."
   ]
  },
  {
   "cell_type": "markdown",
   "id": "bd5f3fbb-356c-4c9b-9362-41466dc4fcaa",
   "metadata": {},
   "source": [
    " ### Methods & Results\n",
    "As mentioned in the introduction, the goal of our project is to determine what group of factors has the most influence on the prediction of type the Iris flower between the 3 types of \n",
    "Iris variegata, Iris Setosa, and Iris Versicolor. of an individual. Since this is a predictive question, we will be using classification to respond to it.\n",
    "\n",
    "First, we load the necessary packages into R, including the `“kknn”` package required for our classification process. We also set our seed to `1382` for reproducibility."
   ]
  },
  {
   "cell_type": "code",
   "execution_count": null,
   "id": "1af08479-d54e-40e2-8ffa-40ecd2298804",
   "metadata": {
    "tags": []
   },
   "outputs": [],
   "source": [
    "# KM - Run cell before starting workspace - loads necessary packages\n",
    "set.seed(1382)\n",
    "library(tidyverse)\n",
    "library(repr)\n",
    "library(tidymodels)\n",
    "options(repr.matrix.max.rows = 6)\n",
    "install.packages(\"kknn\")"
   ]
  },
  {
   "cell_type": "markdown",
   "id": "2d92debf-7d5f-498c-83ae-713d263621c7",
   "metadata": {},
   "source": [
    "We read the data set into R, using the `read_csv` function since the data set contained comma separated values. The original dataset also did not have any names describing each column. Thus, we renamed the columns by referring to the website. Then we printed the data set to see what it looks like."
   ]
  },
  {
   "cell_type": "code",
   "execution_count": null,
   "id": "089d5189-17a0-4f18-b820-4b1b495b1028",
   "metadata": {
    "tags": []
   },
   "outputs": [],
   "source": [
    "iris_data <- read_csv (\"data/iris.data\")\n",
    "iris_data"
   ]
  },
  {
   "cell_type": "markdown",
   "id": "39eb83ad-6814-4cab-ad87-5756fc348960",
   "metadata": {},
   "source": [
    "After importing the dataset from the provided link, we observed that the columns lacked descriptive names, making it challenging to interpret and analyze the data effectively. In response, we took a step in our data wrangling and cleaning process by assigning meaningful names to each column based on the information available on the source website, using the `setNames` function.\n",
    "\n",
    "Simultaneously, we noted that the rows were originally organized based on the iris types, where all rows corresponding to one type of iris flower were grouped together, followed by rows of the second type, and so on. However, this organization could introduce bias when splitting the data for training and testing purposes.\n",
    "\n",
    "To address this concern, we decided to randomize the order of the rows. We used the `slice` function to do this. By doing so, we ensure that our subsequent data split into training and testing sets will be representative and unbiased, with a balanced representation of all three types of iris flowers. This comprehensive approach to data preparation, including renaming columns and randomizing rows, sets the foundation for a more reliable and robust analysis in our exploration of the Iris dataset.\n",
    "\n",
    "Furthermore, we noticed that the 'class' column contained values with the `Iris-` prefix (e.g., `Iris-versicolor`, `Iris-setosa`). To enhance clarity and simplicity in our data, we decided to rename the `class` column by removing the `Iris-` prefix.\n",
    "\n",
    "We accomplished this using the mutate function from the dplyr package, combined with the gsub function. The gsub function allowed us to globally substitute the 'Iris_' prefix with an empty string, effectively leaving only the type of iris flower in the 'class' column.\n",
    "\n",
    "Furthermore, since we are predicting the type of iris flower, we mutated the data set with `as_factor` function so that `class` is treated as a factor for our future classifications.\n",
    "\n",
    "We named the final data set `iris_clean`."
   ]
  },
  {
   "cell_type": "code",
   "execution_count": null,
   "id": "3ea22dd4-1619-4e17-b77b-bbda9e59dec0",
   "metadata": {
    "tags": []
   },
   "outputs": [],
   "source": [
    "set.seed (1402)\n",
    "iris_clean <- iris_data |>\n",
    "    setNames(c(\"sepal_length\", \"sepal_width\", \"petal_length\", \"petal_width\", \"class\"))|>\n",
    "    slice(sample(n())) |>\n",
    "    mutate(class = gsub(\"Iris-\", \"\", class)) |>\n",
    "    mutate (class= as_factor (class))\n",
    "iris_clean"
   ]
  },
  {
   "cell_type": "markdown",
   "id": "3fe3c37d-6dc1-4ec1-a9d7-351265faee17",
   "metadata": {},
   "source": [
    "#### Visualization"
   ]
  },
  {
   "cell_type": "markdown",
   "id": "dc5a3843-5f26-4991-95b9-4b484843738e",
   "metadata": {},
   "source": [
    "Following our research of the topic, we decided to compare the `petal_width` vs. `sepal_width` so see wether there is a pattern in that scatterplot based on the type of flower. We also visualized the `petal_length` vs. `sepal_length` for the same purpose."
   ]
  },
  {
   "cell_type": "code",
   "execution_count": null,
   "id": "c645a2e0-09ed-4ded-a861-07d837e93834",
   "metadata": {
    "tags": []
   },
   "outputs": [],
   "source": [
    "options(repr.plot.width = 8, repr.plot.height = 6)\n",
    "\n",
    "#Scatterplot visualization of Petal vs. Sepal width:\n",
    "\n",
    "petal_vs_sepal_width <- iris_clean |>\n",
    "ggplot(aes (x= petal_width, y= sepal_width , color = class))+\n",
    "geom_point (alpha = 0.6)+\n",
    "labs (x = \"Petal Width (cm)\", \n",
    "       y = \"Sepal Width (cm)\",\n",
    "       color = \"Iris Type\")+\n",
    "ggtitle(\"Petal width vs. Sepal width\")\n",
    "petal_vs_sepal_width\n",
    "\n",
    "#Scatterplot visualization of Petal vs. Sepal length:\n",
    "petal_vs_sepal_length <- iris_clean |>\n",
    "ggplot(aes (x= petal_length, y= sepal_length , color = class))+\n",
    "geom_point (alpha = 0.6)+\n",
    "labs (x = \"Petal Length (cm)\", \n",
    "       y = \"Sepal Length (cm)\",\n",
    "       color = \"Iris Type\")+\n",
    "ggtitle(\"Petal length vs. Sepal length\")\n",
    "petal_vs_sepal_length"
   ]
  },
  {
   "cell_type": "markdown",
   "id": "766d5803-06ba-4d7a-a8a9-6f96495d5336",
   "metadata": {},
   "source": [
    "After conducting a visual exploration of the relationships between petal and sepal measurements in our dataset, we created scatterplots to compare petal_width vs. sepal_width and petal_length vs. sepal_length. These visualizations revealed compelling patterns where points from the same iris type tended to cluster together in different regions of the plots. This suggested a potential relationship between petal and sepal measurements and the type of iris flower.\n",
    "\n",
    "To leverage this observed pattern, we have decided to design two distinct prediction models. One model will focus on utilizing petal length and width as features, while the other model will use sepal length and width. This segmentation allows us to investigate the contributions of both petal and sepal measurements independently in predicting the iris flower type, providing insights into which set of features plays a more significant role in classification.\n",
    "\n",
    "To determine the optimal parameter `k` for our `kknn` classification models, we will perform cross-validation. This process helps ensure that our models generalize well to new, unseen data. Once we have identified the best k values, we will train our kknn models on both sets of features and evaluate their accuracies.\n",
    "\n",
    "By comparing the accuracies of the two models, we aim to quantify the relative importance of sepal measurements versus petal measurements in determining the iris flower type among the three classes: `Virginica`, `Setosa`, and `Versicolor`. This approach allows us to gain a nuanced understanding of the predictive power of each set of measurements and contributes to a more comprehensive analysis of the dataset."
   ]
  },
  {
   "cell_type": "markdown",
   "id": "a3854d94-acf6-4f2b-a64e-b337a4d878ab",
   "metadata": {},
   "source": [
    "#### Expected Outcomes and Significance:  \n",
    "We hypothesize the (sepal or petal, we have to chose this based on research) category predictors will have the highest accuracy to be used as a prediction model to find out the type of iris flower. Literature suggests that...."
   ]
  },
  {
   "cell_type": "markdown",
   "id": "354afc4c-66cd-4ea2-861a-ace2b499f0de",
   "metadata": {},
   "source": [
    "#### Classification:\n",
    "Starting the classification process, we first divide our data into training and testing sets to train our models on training set and then test for their accuracies on testing set."
   ]
  },
  {
   "cell_type": "code",
   "execution_count": null,
   "id": "d4890e37-8bde-42b0-892b-70c4ddd00dcb",
   "metadata": {
    "tags": []
   },
   "outputs": [],
   "source": [
    "set.seed(1402)  # Set your desired seed for reproducibility\n",
    "\n",
    "# Split data\n",
    "pre_split_iris <- iris_clean\n",
    "iris_split <- initial_split(pre_split_iris, prop = 0.7, strata = class)\n",
    "\n",
    "# Shuffle the split using slice_sample\n",
    "iris_train <- slice_sample(training(iris_split), prop = 1)\n",
    "iris_test <- slice_sample(testing(iris_split), prop = 1)\n",
    "\n",
    "# Display the head of the training and testing set\n",
    "head(iris_train)\n",
    "head(iris_test)\n"
   ]
  },
  {
   "cell_type": "markdown",
   "id": "5a77009c-1f55-4191-8099-ee245e824545",
   "metadata": {},
   "source": [
    "#### Now, We start creating our models, training them, and obtaining their accuracies.\n",
    "### Petal KNN Classification:\n",
    "#### Predictors: \n",
    "    * Petal Width\n",
    "    * Petal Length"
   ]
  },
  {
   "cell_type": "markdown",
   "id": "d1a93523-3733-43b6-857a-0696d69c0930",
   "metadata": {},
   "source": [
    "### 1. First we perform cross-validation to obtain the best K\n",
    "##### 1.1. Select the desired columns from `iris_train` and `iris_test`"
   ]
  },
  {
   "cell_type": "code",
   "execution_count": null,
   "id": "c5c290ec-7581-4dbc-be75-8f300f0c6271",
   "metadata": {
    "tags": []
   },
   "outputs": [],
   "source": [
    "#1.1\n",
    "iris_train_petal  <- iris_train |>\n",
    "select (class, petal_width, petal_length)\n",
    "\n",
    "iris_test_petal  <- iris_test |>\n",
    "select (class, petal_width, petal_length)\n",
    "\n",
    "head (iris_train_petal)\n",
    "head (iris_test_petal)"
   ]
  },
  {
   "cell_type": "markdown",
   "id": "2699762b-be3d-4942-a308-1b0a8a466634",
   "metadata": {},
   "source": [
    "##### 1.2. Split the `iris_train_petal` for cross-validation through `vfold_cv`.\n",
    "##### 1.3. Create the `recipe`, include the correct `predictors` and `pre-process` the data.\n",
    "##### 1.4. Create the `knn` `model`, using the appropriate engine and mode and set `neighbors = tune()`.\n",
    "##### 1.5. Fit the `recipe` and `model` into the `workflow`."
   ]
  },
  {
   "cell_type": "code",
   "execution_count": null,
   "id": "31c92e1c-b52c-4d4e-bb2d-5682c4115302",
   "metadata": {
    "tags": []
   },
   "outputs": [],
   "source": [
    "#1.2\n",
    "petal_vfold <- vfold_cv(iris_train_petal, strata=class, v=5)\n",
    "\n",
    "#1.3\n",
    "petal_recipe <- recipe (class ~ . , data= iris_train_petal)\n",
    "petal_recipe\n",
    "\n",
    "#1.4\n",
    "petal_spec <- nearest_neighbor(weight_func = \"rectangular\", neighbors = tune()) |>\n",
    "    set_engine (\"kknn\") |>\n",
    "    set_mode (\"classification\")\n",
    "petal_spec\n",
    "\n",
    "#1.5\n",
    "petal_workflow <- workflow() |>\n",
    "    add_recipe (petal_recipe)|>\n",
    "    add_model (petal_spec)\n",
    "petal_workflow"
   ]
  },
  {
   "cell_type": "markdown",
   "id": "47f5e279-0b08-40c3-9a9b-335e27ff0212",
   "metadata": {},
   "source": [
    "##### 1.6. Made a `tibble` called `k_vals` to determine the range and intervals of $K$s we want to perform the cross-validation on.\n",
    "##### 1.7. Used the `tune_grid` function on our train/validation splits to estimate the classifier accuracy for a range of K values, collected and filtered the `accuracy` to obtain the `accuracies` of our $K$s.\n",
    "##### 1.8. Plotted `accuracy` vs. `K` to visualize what would be the best $K$ with the highest accuracy estimate that doesn’t change much if you change K to a nearby value.\n",
    "##### Notes to keep in mind for this section:\n",
    "* We have picked the range to be from 40-80 through a series of background work:\n",
    "* First we used the formula `sqrt(# of rows)/2` to roughly get an idea of what $K$ can be\n",
    "* The result was 41, we made two ranges: one from 1-40 and one from 41-80 and plotted the `K` vs. `Accuracy` for both\n",
    "* Obtained graphs showed the range to be used is 41-81 because that range has the maximum $K$ `accuracy`.\n",
    "* The code for graph of cross validation of 1-40 and 41-59 is removed to avoid wasting memory."
   ]
  },
  {
   "cell_type": "code",
   "execution_count": null,
   "id": "e9d92d85-272a-48f1-b073-9f7ff04bfbcf",
   "metadata": {
    "tags": []
   },
   "outputs": [],
   "source": [
    "options(repr.plot.height = 6, repr.plot.width = 6)\n",
    "#1.6\n",
    "k_vals_petal <- tibble(neighbors = seq(1,150, by=2))\n",
    "#1.7\n",
    "accurasies_petal <- petal_workflow |>\n",
    "    tune_grid (resamples = petal_vfold, grid = k_vals_petal) |>\n",
    "    collect_metrics() |>\n",
    "  filter(.metric == \"accuracy\")\n",
    "head(accurasies_petal)\n",
    "#1.8\n",
    "cross_val_plot_petal <- accurasies_petal |>\n",
    "    ggplot(aes (x = neighbors, y = mean)) +\n",
    "    geom_point() +\n",
    "    geom_line() +\n",
    "    labs (x = \"k (Number of Neighbors)\",\n",
    "          y = \"Petal Measurements' Accuracy\",\n",
    "         title = \"K vs. Accuracy\") +\n",
    "      theme(text = element_text(size = 12))\n",
    "#scale_x_continuous(breaks = seq(40, 80, by = 2)) # adjusting the x-axis\n",
    "cross_val_plot_petal"
   ]
  },
  {
   "cell_type": "code",
   "execution_count": null,
   "id": "3f5c88c2-d560-4a70-bd54-44d57f07e20e",
   "metadata": {},
   "outputs": [],
   "source": []
  }
 ],
 "metadata": {
  "kernelspec": {
   "display_name": "R",
   "language": "R",
   "name": "ir"
  },
  "language_info": {
   "codemirror_mode": "r",
   "file_extension": ".r",
   "mimetype": "text/x-r-source",
   "name": "R",
   "pygments_lexer": "r",
   "version": "4.2.2"
  }
 },
 "nbformat": 4,
 "nbformat_minor": 5
}
