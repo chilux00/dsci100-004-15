{
 "cells": [
  {
   "cell_type": "markdown",
   "id": "f91c0ddc-8c8a-4d3b-a7bf-3c7b777294e9",
   "metadata": {},
   "source": [
    "## Expected Results:\n",
    "In this data analysis project, we aim to determine whether or the risk of getting a stroke is influenced by factors such as demographics, health factors, and lifestyle. We predict that older individuals (men or women) are at a higher risk of having a stroke and that their family background of stroke is a contributive factor to the likelihood of stroke. Furthermore, we anticipate that high blood pressure and heart disease have a positive relationship with the likelihood of having a stroke in individuals. High-stress levels may also be a contributor to this. We expect to see that unhealthy life habits such as excessive alcohol use and reduced physical activity as well as bad dietary habits will promote the risk of having a stroke in individuals."
   ]
  },
  {
   "cell_type": "markdown",
   "id": "28ef57d7-6483-4b47-830e-9d2a662c14a1",
   "metadata": {},
   "source": [
    "## We do this because ...\n",
    "The findings of the data study on the factors contributing to the likelihood of having a stroke will provide several impactful implications in clinical health, public health, personal health and treatments. Considering these factors and the findings of this study, healthcare professionals can determine if someone is at a higher risk of having a stroke or not. Thus, they will be able to perform early intervention and preventive measures. Furthermore, public health can implement the extracted information to reduce the risks of stroke in society by promoting healthy life habits within society. Knowing the significance of these factors will help individuals implement beneficial dietary habits and lifestyle changes such as controlling stress or increasing physical changes to reduce their risks of getting a stroke. Last but not least, people at high risk of a stroke or those who have unfortunately experienced it before, can use the data in their treatment process to get more personalized treatment and so that their treatment is tailored and specific to the risk factors most relevant to the patients."
   ]
  },
  {
   "cell_type": "markdown",
   "id": "1f561e9e-9f42-4c43-9903-1498a4946b3d",
   "metadata": {},
   "source": [
    "## But what about...\n",
    "Future questions to be answered can be as follows:\n",
    "- Are there other demographic, health, or lifestyle factors that were not considered in this study but might also influence stroke risk?\n",
    "- How do these risk factors interact with each other? Are there synergistic effects?\n",
    "- Can predictive models be developed to estimate an individual's stroke risk more accurately based on multiple risk factors?\n",
    "- What are the long-term effects of interventions aimed at reducing stroke risk?\n"
   ]
  },
  {
   "cell_type": "markdown",
   "id": "373e84e9-0b97-4edf-8cce-fcb3a007ee3d",
   "metadata": {
    "tags": []
   },
   "source": [
    "<img src=\"https://media.giphy.com/media/3orieTTZVPaVNMhRra/giphy.gif\">"
   ]
  },
  {
   "cell_type": "markdown",
   "id": "77d9da76-0304-4ee2-a2fb-c96fac8d0302",
   "metadata": {},
   "source": [
    "## Sources\n",
    "Dataset:\n",
    "Gif: https://media.giphy.com/media/3orieTTZVPaVNMhRra/giphy.gif"
   ]
  },
  {
   "cell_type": "code",
   "execution_count": null,
   "id": "9ee30f3b-dbe4-43df-9d57-bdfc73b68a0b",
   "metadata": {},
   "outputs": [],
   "source": []
  }
 ],
 "metadata": {
  "kernelspec": {
   "display_name": "R",
   "language": "R",
   "name": "ir"
  },
  "language_info": {
   "codemirror_mode": "r",
   "file_extension": ".r",
   "mimetype": "text/x-r-source",
   "name": "R",
   "pygments_lexer": "r",
   "version": "4.2.2"
  }
 },
 "nbformat": 4,
 "nbformat_minor": 5
}
