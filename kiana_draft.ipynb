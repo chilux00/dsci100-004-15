{
 "cells": [
  {
   "cell_type": "markdown",
   "id": "f91c0ddc-8c8a-4d3b-a7bf-3c7b777294e9",
   "metadata": {},
   "source": [
    "## Expected Results:\n",
    "In this data analysis project, having 3 categories to be potentially used for the prediction of a patient's stroke status, we aim to find the best knn model between them. with the 3 categories being demographics, health, and lifestyle, we predict that the health category involving hypertension, heart disease and stress level predictors will have the highest accuracy to be used as a prediction model to find out a patient's stroke history status. "
   ]
  },
  {
   "cell_type": "markdown",
   "id": "28ef57d7-6483-4b47-830e-9d2a662c14a1",
   "metadata": {},
   "source": [
    "## We do this because ...\n",
    "The findings of the data study will benefit clinical, public and personal health. Knowing the most impactful factors, healthcare professionals can determine if someone is at a higher risk of having a stroke by putting more focus on those factors. Depending on the outcome of our study, people can improve their lifestyle habits and take preventive measures to reduce their risks of getting a stroke."
   ]
  },
  {
   "cell_type": "markdown",
   "id": "1f561e9e-9f42-4c43-9903-1498a4946b3d",
   "metadata": {},
   "source": [
    "## But what about...\n",
    "Future questions:\n",
    "* Are there other demographic, health, or lifestyle factors that were not considered in this study but might also influence stroke risk?\n",
    "* Can predictive models be developed to estimate an individual's stroke risk more accurately based on multiple risk factors?\n",
    "* What are the long-term effects of interventions aimed at reducing stroke risk?"
   ]
  },
  {
   "cell_type": "markdown",
   "id": "373e84e9-0b97-4edf-8cce-fcb3a007ee3d",
   "metadata": {
    "tags": []
   },
   "source": [
    "<img src=\"https://media.giphy.com/media/3orieTTZVPaVNMhRra/giphy.gif\" width = \"600\"/>"
   ]
  },
  {
   "cell_type": "markdown",
   "id": "3a9499b5-e8ae-4261-8138-615fd10daf78",
   "metadata": {},
   "source": [
    "<img src=\"https://vitals.sutterhealth.org/files/2020/05/iStock-1168179082.jpg\" width = \"600\"/>"
   ]
  },
  {
   "cell_type": "markdown",
   "id": "77d9da76-0304-4ee2-a2fb-c96fac8d0302",
   "metadata": {},
   "source": [
    "## Sources\n",
    "* Dataset: https://www.kaggle.com/datasets/teamincribo/stroke-prediction/data\n",
    "* Gif: https://media.giphy.com/media/3orieTTZVPaVNMhRra/giphy.gif\n",
    "* Stroke Image: https://vitals.sutterhealth.org/files/2020/05/iStock-1168179082.jpg\n",
    "* Stroke background information: https://www.cdc.gov/stroke/about.htm#:~:text=A%20stroke%2C%20sometimes%20called%20a,term%20disability%2C%20or%20even%20death."
   ]
  },
  {
   "cell_type": "code",
   "execution_count": 1,
   "id": "177ef58d-b5af-4d93-bca1-e6d9f7ee88b6",
   "metadata": {},
   "outputs": [],
   "source": [
    "#### This is the main data file (to be handed in)#####\n",
    "\n",
    "# Please read the following before adding changes to this document:\n",
    "# 1. Does the code you are running work? (Have you run the code in your personal draft file and it returns no error?)\n",
    "# 2. Have you consulted in the group chat before committing your code?\n",
    "# 3. Be sure to add a comment for what the code added is for, and also your initials, so we can track changes!\n",
    "# 4. Commit often so that we can see the history of changes.\n",
    "# 5. Before pushing your changes to GitHub, remember that all changes will override the final file.\n",
    "\n",
    "# Example below - Ching has added the data file."
   ]
  },
  {
   "cell_type": "code",
   "execution_count": null,
   "id": "809e57dd-4817-49a4-b58a-160e049f08f9",
   "metadata": {},
   "outputs": [],
   "source": []
  }
 ],
 "metadata": {
  "kernelspec": {
   "display_name": "R",
   "language": "R",
   "name": "ir"
  },
  "language_info": {
   "codemirror_mode": "r",
   "file_extension": ".r",
   "mimetype": "text/x-r-source",
   "name": "R",
   "pygments_lexer": "r",
   "version": "4.2.2"
  },
  "toc-showtags": false
 },
 "nbformat": 4,
 "nbformat_minor": 5
}
