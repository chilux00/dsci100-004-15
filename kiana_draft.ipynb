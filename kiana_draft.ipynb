{
 "cells": [
  {
   "cell_type": "code",
   "execution_count": 8,
   "id": "10388dc3-56db-4053-8ac8-501923b09c6a",
   "metadata": {
    "tags": []
   },
   "outputs": [],
   "source": [
    "### Run this cell before continuing. \n",
    "library(tidyverse)\n",
    "library(repr)\n",
    "library(rvest)\n",
    "library(stringr)\n",
    "options(repr.matrix.max.rows = 6)"
   ]
  },
  {
   "cell_type": "code",
   "execution_count": 9,
   "id": "4cd5e393-b095-4925-a541-b72ee96ba700",
   "metadata": {},
   "outputs": [
    {
     "name": "stderr",
     "output_type": "stream",
     "text": [
      "Warning message:\n",
      "“\u001b[1m\u001b[22mOne or more parsing issues, call `problems()` on your data frame for details,\n",
      "e.g.:\n",
      "  dat <- vroom(...)\n",
      "  problems(dat)”\n",
      "\u001b[1mRows: \u001b[22m\u001b[34m108553\u001b[39m \u001b[1mColumns: \u001b[22m\u001b[34m11\u001b[39m\n",
      "\u001b[36m──\u001b[39m \u001b[1mColumn specification\u001b[22m \u001b[36m────────────────────────────────────────────────────────\u001b[39m\n",
      "\u001b[1mDelimiter:\u001b[22m \",\"\n",
      "\u001b[31mchr\u001b[39m (3): Entity, Code, Year\n",
      "\u001b[32mdbl\u001b[39m (8): index, Schizophrenia (%), Bipolar disorder (%), Eating disorders (%...\n",
      "\n",
      "\u001b[36mℹ\u001b[39m Use `spec()` to retrieve the full column specification for this data.\n",
      "\u001b[36mℹ\u001b[39m Specify the column types or set `show_col_types = FALSE` to quiet this message.\n"
     ]
    },
    {
     "data": {
      "text/html": [
       "<table class=\"dataframe\">\n",
       "<caption>A spec_tbl_df: 108553 × 11</caption>\n",
       "<thead>\n",
       "\t<tr><th scope=col>index</th><th scope=col>entity</th><th scope=col>code</th><th scope=col>year</th><th scope=col>schizophrenia</th><th scope=col>bipolar_disorder</th><th scope=col>eating_disorders</th><th scope=col>anxiety_disorders</th><th scope=col>drug_use_disorders</th><th scope=col>depression</th><th scope=col>alcohol_use_disorders</th></tr>\n",
       "\t<tr><th scope=col>&lt;dbl&gt;</th><th scope=col>&lt;chr&gt;</th><th scope=col>&lt;chr&gt;</th><th scope=col>&lt;chr&gt;</th><th scope=col>&lt;dbl&gt;</th><th scope=col>&lt;dbl&gt;</th><th scope=col>&lt;dbl&gt;</th><th scope=col>&lt;dbl&gt;</th><th scope=col>&lt;dbl&gt;</th><th scope=col>&lt;dbl&gt;</th><th scope=col>&lt;dbl&gt;</th></tr>\n",
       "</thead>\n",
       "<tbody>\n",
       "\t<tr><td>0</td><td>Afghanistan</td><td>AFG</td><td>1990</td><td>0.160560</td><td>0.697779</td><td>0.101855</td><td>4.828830</td><td>1.677082</td><td>4.071831</td><td>0.672404</td></tr>\n",
       "\t<tr><td>1</td><td>Afghanistan</td><td>AFG</td><td>1991</td><td>0.160312</td><td>0.697961</td><td>0.099313</td><td>4.829740</td><td>1.684746</td><td>4.079531</td><td>0.671768</td></tr>\n",
       "\t<tr><td>2</td><td>Afghanistan</td><td>AFG</td><td>1992</td><td>0.160135</td><td>0.698107</td><td>0.096692</td><td>4.831108</td><td>1.694334</td><td>4.088358</td><td>0.670644</td></tr>\n",
       "\t<tr><td>⋮</td><td>⋮</td><td>⋮</td><td>⋮</td><td>⋮</td><td>⋮</td><td>⋮</td><td>⋮</td><td>⋮</td><td>⋮</td><td>⋮</td></tr>\n",
       "\t<tr><td>108550</td><td>Zimbabwe</td><td>ZWE</td><td>2015</td><td>320638.5</td><td>NA</td><td>NA</td><td>NA</td><td>NA</td><td>NA</td><td>NA</td></tr>\n",
       "\t<tr><td>108551</td><td>Zimbabwe</td><td>ZWE</td><td>2016</td><td>330437.4</td><td>NA</td><td>NA</td><td>NA</td><td>NA</td><td>NA</td><td>NA</td></tr>\n",
       "\t<tr><td>108552</td><td>Zimbabwe</td><td>ZWE</td><td>2017</td><td>340583.2</td><td>NA</td><td>NA</td><td>NA</td><td>NA</td><td>NA</td><td>NA</td></tr>\n",
       "</tbody>\n",
       "</table>\n"
      ],
      "text/latex": [
       "A spec\\_tbl\\_df: 108553 × 11\n",
       "\\begin{tabular}{lllllllllll}\n",
       " index & entity & code & year & schizophrenia & bipolar\\_disorder & eating\\_disorders & anxiety\\_disorders & drug\\_use\\_disorders & depression & alcohol\\_use\\_disorders\\\\\n",
       " <dbl> & <chr> & <chr> & <chr> & <dbl> & <dbl> & <dbl> & <dbl> & <dbl> & <dbl> & <dbl>\\\\\n",
       "\\hline\n",
       "\t 0 & Afghanistan & AFG & 1990 & 0.160560 & 0.697779 & 0.101855 & 4.828830 & 1.677082 & 4.071831 & 0.672404\\\\\n",
       "\t 1 & Afghanistan & AFG & 1991 & 0.160312 & 0.697961 & 0.099313 & 4.829740 & 1.684746 & 4.079531 & 0.671768\\\\\n",
       "\t 2 & Afghanistan & AFG & 1992 & 0.160135 & 0.698107 & 0.096692 & 4.831108 & 1.694334 & 4.088358 & 0.670644\\\\\n",
       "\t ⋮ & ⋮ & ⋮ & ⋮ & ⋮ & ⋮ & ⋮ & ⋮ & ⋮ & ⋮ & ⋮\\\\\n",
       "\t 108550 & Zimbabwe & ZWE & 2015 & 320638.5 & NA & NA & NA & NA & NA & NA\\\\\n",
       "\t 108551 & Zimbabwe & ZWE & 2016 & 330437.4 & NA & NA & NA & NA & NA & NA\\\\\n",
       "\t 108552 & Zimbabwe & ZWE & 2017 & 340583.2 & NA & NA & NA & NA & NA & NA\\\\\n",
       "\\end{tabular}\n"
      ],
      "text/markdown": [
       "\n",
       "A spec_tbl_df: 108553 × 11\n",
       "\n",
       "| index &lt;dbl&gt; | entity &lt;chr&gt; | code &lt;chr&gt; | year &lt;chr&gt; | schizophrenia &lt;dbl&gt; | bipolar_disorder &lt;dbl&gt; | eating_disorders &lt;dbl&gt; | anxiety_disorders &lt;dbl&gt; | drug_use_disorders &lt;dbl&gt; | depression &lt;dbl&gt; | alcohol_use_disorders &lt;dbl&gt; |\n",
       "|---|---|---|---|---|---|---|---|---|---|---|\n",
       "| 0 | Afghanistan | AFG | 1990 | 0.160560 | 0.697779 | 0.101855 | 4.828830 | 1.677082 | 4.071831 | 0.672404 |\n",
       "| 1 | Afghanistan | AFG | 1991 | 0.160312 | 0.697961 | 0.099313 | 4.829740 | 1.684746 | 4.079531 | 0.671768 |\n",
       "| 2 | Afghanistan | AFG | 1992 | 0.160135 | 0.698107 | 0.096692 | 4.831108 | 1.694334 | 4.088358 | 0.670644 |\n",
       "| ⋮ | ⋮ | ⋮ | ⋮ | ⋮ | ⋮ | ⋮ | ⋮ | ⋮ | ⋮ | ⋮ |\n",
       "| 108550 | Zimbabwe | ZWE | 2015 | 320638.5 | NA | NA | NA | NA | NA | NA |\n",
       "| 108551 | Zimbabwe | ZWE | 2016 | 330437.4 | NA | NA | NA | NA | NA | NA |\n",
       "| 108552 | Zimbabwe | ZWE | 2017 | 340583.2 | NA | NA | NA | NA | NA | NA |\n",
       "\n"
      ],
      "text/plain": [
       "       index  entity      code year schizophrenia bipolar_disorder\n",
       "1      0      Afghanistan AFG  1990 0.160560      0.697779        \n",
       "2      1      Afghanistan AFG  1991 0.160312      0.697961        \n",
       "3      2      Afghanistan AFG  1992 0.160135      0.698107        \n",
       "⋮      ⋮      ⋮           ⋮    ⋮    ⋮             ⋮               \n",
       "108551 108550 Zimbabwe    ZWE  2015 320638.5      NA              \n",
       "108552 108551 Zimbabwe    ZWE  2016 330437.4      NA              \n",
       "108553 108552 Zimbabwe    ZWE  2017 340583.2      NA              \n",
       "       eating_disorders anxiety_disorders drug_use_disorders depression\n",
       "1      0.101855         4.828830          1.677082           4.071831  \n",
       "2      0.099313         4.829740          1.684746           4.079531  \n",
       "3      0.096692         4.831108          1.694334           4.088358  \n",
       "⋮      ⋮                ⋮                 ⋮                  ⋮         \n",
       "108551 NA               NA                NA                 NA        \n",
       "108552 NA               NA                NA                 NA        \n",
       "108553 NA               NA                NA                 NA        \n",
       "       alcohol_use_disorders\n",
       "1      0.672404             \n",
       "2      0.671768             \n",
       "3      0.670644             \n",
       "⋮      ⋮                    \n",
       "108551 NA                   \n",
       "108552 NA                   \n",
       "108553 NA                   "
      ]
     },
     "metadata": {},
     "output_type": "display_data"
    }
   ],
   "source": [
    "mentalhealth <- read_csv (\"data/mentalhealth_data.csv\")\n",
    "colnames(mentalhealth) <- c(\"index\",\n",
    "         \"entity\",\n",
    "         \"code\",\n",
    "         \"year\",\n",
    "         \"schizophrenia\",\n",
    "         \"bipolar_disorder\",\n",
    "         \"eating_disorders\",\n",
    "         \"anxiety_disorders\",\n",
    "         \"drug_use_disorders\",\n",
    "         \"depression\",\n",
    "         \"alcohol_use_disorders\")\n",
    "mentalhealth"
   ]
  },
  {
   "cell_type": "code",
   "execution_count": 10,
   "id": "0f8c2cdc-c5d7-4346-9166-c63d5bcd1828",
   "metadata": {},
   "outputs": [
    {
     "data": {
      "text/html": [
       "<table class=\"dataframe\">\n",
       "<caption>A tibble: 64 × 6</caption>\n",
       "<thead>\n",
       "\t<tr><th scope=col>entity</th><th scope=col>year</th><th scope=col>anxiety_disorders</th><th scope=col>drug_use_disorders</th><th scope=col>depression</th><th scope=col>alcohol_use_disorders</th></tr>\n",
       "\t<tr><th scope=col>&lt;chr&gt;</th><th scope=col>&lt;int&gt;</th><th scope=col>&lt;dbl&gt;</th><th scope=col>&lt;dbl&gt;</th><th scope=col>&lt;dbl&gt;</th><th scope=col>&lt;dbl&gt;</th></tr>\n",
       "</thead>\n",
       "<tbody>\n",
       "\t<tr><td>Canada</td><td>2014</td><td>5.167921</td><td>2.207245</td><td>3.936199</td><td>1.603801</td></tr>\n",
       "\t<tr><td>Canada</td><td>2015</td><td>5.170797</td><td>2.225150</td><td>3.949642</td><td>1.608215</td></tr>\n",
       "\t<tr><td>Canada</td><td>2016</td><td>5.174359</td><td>2.248352</td><td>3.967491</td><td>1.612934</td></tr>\n",
       "\t<tr><td>⋮</td><td>⋮</td><td>⋮</td><td>⋮</td><td>⋮</td><td>⋮</td></tr>\n",
       "\t<tr><td>Yemen</td><td>2015</td><td>4.852522</td><td>1.401506</td><td>4.017056</td><td>0.636171</td></tr>\n",
       "\t<tr><td>Yemen</td><td>2016</td><td>4.854853</td><td>1.410645</td><td>4.015950</td><td>0.635438</td></tr>\n",
       "\t<tr><td>Yemen</td><td>2017</td><td>4.857207</td><td>1.414725</td><td>4.012346</td><td>0.634413</td></tr>\n",
       "</tbody>\n",
       "</table>\n"
      ],
      "text/latex": [
       "A tibble: 64 × 6\n",
       "\\begin{tabular}{llllll}\n",
       " entity & year & anxiety\\_disorders & drug\\_use\\_disorders & depression & alcohol\\_use\\_disorders\\\\\n",
       " <chr> & <int> & <dbl> & <dbl> & <dbl> & <dbl>\\\\\n",
       "\\hline\n",
       "\t Canada & 2014 & 5.167921 & 2.207245 & 3.936199 & 1.603801\\\\\n",
       "\t Canada & 2015 & 5.170797 & 2.225150 & 3.949642 & 1.608215\\\\\n",
       "\t Canada & 2016 & 5.174359 & 2.248352 & 3.967491 & 1.612934\\\\\n",
       "\t ⋮ & ⋮ & ⋮ & ⋮ & ⋮ & ⋮\\\\\n",
       "\t Yemen & 2015 & 4.852522 & 1.401506 & 4.017056 & 0.636171\\\\\n",
       "\t Yemen & 2016 & 4.854853 & 1.410645 & 4.015950 & 0.635438\\\\\n",
       "\t Yemen & 2017 & 4.857207 & 1.414725 & 4.012346 & 0.634413\\\\\n",
       "\\end{tabular}\n"
      ],
      "text/markdown": [
       "\n",
       "A tibble: 64 × 6\n",
       "\n",
       "| entity &lt;chr&gt; | year &lt;int&gt; | anxiety_disorders &lt;dbl&gt; | drug_use_disorders &lt;dbl&gt; | depression &lt;dbl&gt; | alcohol_use_disorders &lt;dbl&gt; |\n",
       "|---|---|---|---|---|---|\n",
       "| Canada | 2014 | 5.167921 | 2.207245 | 3.936199 | 1.603801 |\n",
       "| Canada | 2015 | 5.170797 | 2.225150 | 3.949642 | 1.608215 |\n",
       "| Canada | 2016 | 5.174359 | 2.248352 | 3.967491 | 1.612934 |\n",
       "| ⋮ | ⋮ | ⋮ | ⋮ | ⋮ | ⋮ |\n",
       "| Yemen | 2015 | 4.852522 | 1.401506 | 4.017056 | 0.636171 |\n",
       "| Yemen | 2016 | 4.854853 | 1.410645 | 4.015950 | 0.635438 |\n",
       "| Yemen | 2017 | 4.857207 | 1.414725 | 4.012346 | 0.634413 |\n",
       "\n"
      ],
      "text/plain": [
       "   entity year anxiety_disorders drug_use_disorders depression\n",
       "1  Canada 2014 5.167921          2.207245           3.936199  \n",
       "2  Canada 2015 5.170797          2.225150           3.949642  \n",
       "3  Canada 2016 5.174359          2.248352           3.967491  \n",
       "⋮  ⋮      ⋮    ⋮                 ⋮                  ⋮         \n",
       "62 Yemen  2015 4.852522          1.401506           4.017056  \n",
       "63 Yemen  2016 4.854853          1.410645           4.015950  \n",
       "64 Yemen  2017 4.857207          1.414725           4.012346  \n",
       "   alcohol_use_disorders\n",
       "1  1.603801             \n",
       "2  1.608215             \n",
       "3  1.612934             \n",
       "⋮  ⋮                    \n",
       "62 0.636171             \n",
       "63 0.635438             \n",
       "64 0.634413             "
      ]
     },
     "metadata": {},
     "output_type": "display_data"
    }
   ],
   "source": [
    "mentalhealth <- na.omit(mentalhealth)\n",
    "mentalhealth <- mentalhealth |>\n",
    "select (entity, year, anxiety_disorders, drug_use_disorders, depression, alcohol_use_disorders) |>\n",
    "mutate(year = as.integer(year)) |>\n",
    "filter (year > 2013 & year < 2023 & entity %in% c(\"Iran\", \"Saudi Arabia\", \"Israel\", \"Jordan\", \"Kuwait\", \"United Arab Emirates\",\n",
    "                                               \"Yemen\", \"Qatar\", \"Oman\", \"Iraq\", \"Syria\",\"Egypt\", \"Palestine\", \"Cyprus\", \"Canada\", \"United States\"), na.rm=TRUE)\n",
    "\n",
    "mentalhealth"
   ]
  },
  {
   "cell_type": "markdown",
   "id": "6ffad2cf-c5b8-4246-9f9a-9912e0916796",
   "metadata": {},
   "source": [
    "Here is an alternative way of reading the data directly from the url, which is to load the zip file and then read the csv. from the zip. we don't have to do it, but I'm just putting it in case you guys wanna proceed with it."
   ]
  },
  {
   "cell_type": "code",
   "execution_count": 12,
   "id": "ecc735ce-8433-49f5-a192-9e59bb81a0e7",
   "metadata": {
    "tags": []
   },
   "outputs": [
    {
     "name": "stderr",
     "output_type": "stream",
     "text": [
      "Warning message in unzip(zip_file, exdir = local_dir):\n",
      "“error 1 in extracting from zip file”\n"
     ]
    },
    {
     "data": {
      "text/html": [
       "<style>\n",
       ".list-inline {list-style: none; margin:0; padding: 0}\n",
       ".list-inline>li {display: inline-block}\n",
       ".list-inline>li:not(:last-child)::after {content: \"\\00b7\"; padding: 0 .5ex}\n",
       "</style>\n",
       "<ol class=list-inline><li>'mental_health_data.zip'</li><li>'mentalhealth_data.csv'</li></ol>\n"
      ],
      "text/latex": [
       "\\begin{enumerate*}\n",
       "\\item 'mental\\_health\\_data.zip'\n",
       "\\item 'mentalhealth\\_data.csv'\n",
       "\\end{enumerate*}\n"
      ],
      "text/markdown": [
       "1. 'mental_health_data.zip'\n",
       "2. 'mentalhealth_data.csv'\n",
       "\n",
       "\n"
      ],
      "text/plain": [
       "[1] \"mental_health_data.zip\" \"mentalhealth_data.csv\" "
      ]
     },
     "metadata": {},
     "output_type": "display_data"
    },
    {
     "name": "stderr",
     "output_type": "stream",
     "text": [
      "Warning message in file(file, \"rt\"):\n",
      "“cannot open file 'data/Mental_health_Depression_disorder_Data.csv': No such file or directory”\n"
     ]
    },
    {
     "ename": "ERROR",
     "evalue": "Error in file(file, \"rt\"): cannot open the connection\n",
     "output_type": "error",
     "traceback": [
      "Error in file(file, \"rt\"): cannot open the connection\nTraceback:\n",
      "1. read.csv(csv_file)",
      "2. read.table(file = file, header = header, sep = sep, quote = quote, \n .     dec = dec, fill = fill, comment.char = comment.char, ...)",
      "3. file(file, \"rt\")"
     ]
    }
   ],
   "source": [
    "url <- \"https://www.kaggle.com/datasets/thedevastator/uncover-global-trends-in-mental-health-disorder/download?datasetVersionNumber=2\"\n",
    "local_dir <- \"data/\"\n",
    "dir.create(local_dir, showWarnings = FALSE)\n",
    "zip_file <- paste0(local_dir, \"mental_health_data.zip\")\n",
    "download.file(url, destfile = zip_file, mode = \"wb\")\n",
    "unzip(zip_file, exdir = local_dir)\n",
    "list.files(local_dir)\n",
    "#csv_file <- paste0(local_dir, \"Mental_health_Depression_disorder_Data.csv\")\n",
    "data <- read.csv(csv_file)\n",
    "data"
   ]
  },
  {
   "cell_type": "code",
   "execution_count": null,
   "id": "ca12c7cd-25d0-4088-a038-06bbfa4a0495",
   "metadata": {},
   "outputs": [],
   "source": []
  }
 ],
 "metadata": {
  "kernelspec": {
   "display_name": "R",
   "language": "R",
   "name": "ir"
  },
  "language_info": {
   "codemirror_mode": "r",
   "file_extension": ".r",
   "mimetype": "text/x-r-source",
   "name": "R",
   "pygments_lexer": "r",
   "version": "4.2.2"
  }
 },
 "nbformat": 4,
 "nbformat_minor": 5
}
