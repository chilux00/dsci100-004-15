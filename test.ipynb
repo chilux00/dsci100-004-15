{
 "cells": [
  {
   "cell_type": "code",
   "execution_count": 11,
   "id": "4467d882-1ad2-4ff1-8747-75d11e56d1ad",
   "metadata": {
    "tags": []
   },
   "outputs": [],
   "source": [
    "library(tidyverse)\n",
    "library(repr)\n",
    "library(readxl)"
   ]
  },
  {
   "cell_type": "code",
   "execution_count": 17,
   "id": "2990c81f-8d82-45e8-b074-b75d3c5e1574",
   "metadata": {
    "tags": []
   },
   "outputs": [
    {
     "ename": "ERROR",
     "evalue": "Error: `path` does not exist: ‘https://opendata.vancouver.ca/api/explore/v2.1/catalog/datasets/street-trees/exports/csv?lang=en&timezone=America%2FLos_Angeles&use_labels=true&delimiter=%3B’\n",
     "output_type": "error",
     "traceback": [
      "Error: `path` does not exist: ‘https://opendata.vancouver.ca/api/explore/v2.1/catalog/datasets/street-trees/exports/csv?lang=en&timezone=America%2FLos_Angeles&use_labels=true&delimiter=%3B’\nTraceback:\n",
      "1. read_excel(url)",
      "2. check_file(path)",
      "3. stop(\"`path` does not exist: \", sQuote(path), call. = FALSE)"
     ]
    }
   ],
   "source": [
    "url <- \"https://opendata.vancouver.ca/api/explore/v2.1/catalog/datasets/street-trees/exports/csv?lang=en&timezone=America%2FLos_Angeles&use_labels=true&delimiter=%3B\"\n",
    "\n",
    "kaggle <- read_excel(url)\n",
    "kaggle\n"
   ]
  },
  {
   "cell_type": "code",
   "execution_count": null,
   "id": "caecffe6-5c30-424f-9552-af282c759e87",
   "metadata": {},
   "outputs": [],
   "source": []
  }
 ],
 "metadata": {
  "kernelspec": {
   "display_name": "R",
   "language": "R",
   "name": "ir"
  },
  "language_info": {
   "codemirror_mode": "r",
   "file_extension": ".r",
   "mimetype": "text/x-r-source",
   "name": "R",
   "pygments_lexer": "r",
   "version": "4.2.2"
  }
 },
 "nbformat": 4,
 "nbformat_minor": 5
}
